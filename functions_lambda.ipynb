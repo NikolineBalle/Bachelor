{
 "cells": [
  {
   "cell_type": "code",
   "execution_count": 1,
   "id": "considerable-atlantic",
   "metadata": {},
   "outputs": [],
   "source": [
    "# Load packages \n",
    "import numpy as np\n",
    "from numpy.linalg import solve\n",
    "import matplotlib.pyplot as plt\n",
    "from scipy.linalg import qr\n",
    "from scipy import optimize\n",
    "from scipy.special import erfinv\n",
    "from scipy.optimize import minimize_scalar\n",
    "import egrss "
   ]
  },
  {
   "cell_type": "code",
   "execution_count": null,
   "id": "controlled-scotland",
   "metadata": {},
   "outputs": [],
   "source": [
    "# Smoothing spline regression\n",
    "\n",
    "def smoothing_spline_reg(Ut,Wt,z,yhat,obj = 'nothing'):\n",
    "    p,n = Ut.shape\n",
    "    B   = np.zeros((n,p))\n",
    "    for k in range(p):\n",
    "        B[:,k] = egrss.trsv(Ut,Wt,Ut[k,:].T, z,'N') \n",
    "    Q, R     = qr(B)\n",
    "    c        = egrss.trsv(Ut,Wt,yhat,z,'N')\n",
    "    c        = np.dot(Q.T,c)\n",
    "    d        = solve(R[0:p,0:p],c[0:p])\n",
    "    c[0:p]   = 0\n",
    "    c        = egrss.trsv(Ut,Wt,np.dot(Q,c), z,'T')\n",
    "    if obj == 'nothing':\n",
    "        return c, d\n",
    "    elif obj == 'gml': \n",
    "        log_glm  = np.log(np.dot(yhat.T,c)) + 2.0 / (n-p ) * (np.sum(np.log(z),axis = 0) + np.sum( np.log(np.abs(np.diag(R[0:p,0:p])))))\n",
    "        return c, d, log_glm\n",
    "    else:\n",
    "        raise Exception(\"Unknown objective\")\n",
    "        \n",
    "# Generalized maximum likelihood\n",
    "def GML(q):\n",
    "    lam = 1/np.power(10,q)\n",
    "    Ut, Vt = egrss.generators((x-a)/(b-a),p)\n",
    "    Wt, z  = egrss.potrf(Ut,Vt,N*lam/xi)\n",
    "    LinvF = np.zeros([N,p])\n",
    "    for i in range(p):\n",
    "        LinvF[:,i] = egrss.trsv(Ut,Wt,Ut[i,:],z,'N') \n",
    "    q,R = np.linalg.qr(LinvF)\n",
    "\n",
    "    alpha ,d  = smoothing_spline_reg(Ut,Wt,z,yhat) \n",
    "    return np.asscalar(np.log(np.transpose(yhat) @ alpha) + 2/(N-p)* np.sum(np.log(z)) + 2/(N-p) *np.log(abs(np.linalg.det(R))))\n",
    "\n",
    "# Generalized cross validation\n",
    "def GCV(q):\n",
    "    lam = 1/np.power(10,q)\n",
    "    Ut, Vt = egrss.generators((x-a)/(b-a),p) \n",
    "    Wt, z  = egrss.potrf(Ut,Vt,N*lam/xi)\n",
    "    alpha ,d  = smoothing_spline_reg(Ut,Wt,z,yhat) \n",
    "    Linv = egrss.trtri2(Ut,Wt,z)\n",
    "    LinvF = np.zeros([N,p])\n",
    "    for i in range(p):\n",
    "        LinvF[:,i] = egrss.trsv(Ut,Wt,Ut[i,:], z,'N') \n",
    "    Q,R = np.linalg.qr(LinvF, mode = 'reduced')\n",
    "\n",
    "    LinvTQ = np.zeros([N,p])\n",
    "    for k in range(p):\n",
    "        LinvTQ[:,k] = egrss.trsv(Ut,Wt,Q[:,k],c=z,trans='T')\n",
    "\n",
    "    return np.asscalar(np.log(N) + 2*np.log(np.linalg.norm(alpha))- 2*np.log(np.linalg.norm(Linv,'fro')**2 - np.linalg.norm(LinvTQ,'fro')**2))"
   ]
  },
  {
   "cell_type": "code",
   "execution_count": null,
   "id": "saved-whole",
   "metadata": {},
   "outputs": [],
   "source": []
  }
 ],
 "metadata": {
  "kernelspec": {
   "display_name": "Python 3",
   "language": "python",
   "name": "python3"
  },
  "language_info": {
   "codemirror_mode": {
    "name": "ipython",
    "version": 3
   },
   "file_extension": ".py",
   "mimetype": "text/x-python",
   "name": "python",
   "nbconvert_exporter": "python",
   "pygments_lexer": "ipython3",
   "version": "3.8.5"
  }
 },
 "nbformat": 4,
 "nbformat_minor": 5
}
