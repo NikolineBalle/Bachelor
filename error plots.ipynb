{
 "cells": [
  {
   "cell_type": "code",
   "execution_count": 1,
   "metadata": {},
   "outputs": [],
   "source": [
    "import numpy as np\n",
    "from numpy.linalg import solve\n",
    "import matplotlib.pyplot as plt\n",
    "from scipy.linalg import qr\n",
    "from scipy import optimize\n",
    "from scipy.optimize import minimize_scalar\n",
    "import egrss \n",
    "import lambda_fun \n",
    "import os\n",
    "\n",
    "def error(fun):\n",
    "    def y(x):\n",
    "        return 0.25*np.cos(4*np.pi *x) + 0.15*np.sin(12* np.pi *x) + 0.2 * x\n",
    "    a,b = -0.2, 0.5\n",
    "    N = 100\n",
    "    p = 2\n",
    "    xi = (b-a) ** (2 * p - 1) \n",
    "    x = np.linspace(a,b,N)\n",
    "    yhat = y(x) + 0.1 * np.random.normal(loc = 0, scale = 1, size = N)\n",
    "    # finding the minimizer\n",
    "    min_point = fun(N= 100, x = x, p = 2, yhat = yhat, method = 'golden',  usage = 'min')\n",
    "\n",
    "    lam = 1/np.power(10,min_point.x)\n",
    "    Ut, Vt = egrss.generators((x-a)/(b-a),p)\n",
    "    Wt, z  = egrss.potrf(Ut,Vt,N*lam/xi)\n",
    "    c,d    = lambda_fun.smoothing_spline_reg(Ut,Wt,z,yhat)\n",
    "\n",
    "    error = (y(x)-(yhat-N*lam/xi*c))**2\n",
    "    error_sum = np.sqrt(sum(error))/np.sqrt(sum(y(x)**2))\n",
    "    \n",
    "    \n",
    "    return error_sum, lam\n",
    "\n",
    "errors = np.zeros([100,3])\n",
    "lamb = np.zeros([100,2])\n",
    "\n",
    "for i in range(100):\n",
    "    errors[i,0] = error(lambda_fun.min_GML)[0]\n",
    "    errors[i,1] = error(lambda_fun.min_GCV)[0]\n",
    "    lamb[i,0] = error(lambda_fun.min_GML)[1]\n",
    "    lamb[i,1] = error(lambda_fun.min_GCV)[1]\n",
    "    "
   ]
  },
  {
   "cell_type": "code",
   "execution_count": 2,
   "metadata": {},
   "outputs": [],
   "source": [
    "y_save = np.load('Data/y_save.npy')\n",
    "a,b = -0.2, 0.5\n",
    "n = 100\n",
    "x = np.linspace(a,b,n)\n",
    "def y(x):\n",
    "    return 0.25*np.cos(4*np.pi *x) + 0.15*np.sin(12* np.pi *x) + 0.2 * x\n",
    "\n",
    "for i in range(100):\n",
    "    errors[i,2] = np.sum((y_save[i,:]-y(x))**2)/np.sqrt(sum(y(x)**2))"
   ]
  },
  {
   "cell_type": "code",
   "execution_count": 3,
   "metadata": {},
   "outputs": [
    {
     "data": {
      "image/png": "[encoded data removed]",
      "text/plain": [
       "<Figure size 432x288 with 1 Axes>"
      ]
     },
     "metadata": {
      "needs_background": "light"
     },
     "output_type": "display_data"
    }
   ],
   "source": [
    "def plot_deg(y, xlabel, ylabel, savename):\n",
    "    fig = plt.figure()\n",
    "    ax = fig.add_axes([0, 0, 1, 1])\n",
    "    c = 'lavender'\n",
    "    d = 'mediumpurple'\n",
    "    lw = 1.8\n",
    "    bp = ax.boxplot(y, positions=[1,2,3], patch_artist=True,\n",
    "            boxprops=dict(facecolor=c, color=d, linewidth = lw),\n",
    "            capprops=dict(color=d, linewidth = lw),\n",
    "            whiskerprops=dict(color=d , linewidth = lw),\n",
    "            flierprops=dict(color=d, markeredgecolor=d, marker='o', markerfacecolor=d, markersize=8,linewidth = lw),\n",
    "            medianprops=dict(color=d),\n",
    "            )\n",
    "    plt.xlabel(xlabel, fontsize = 22)\n",
    "    plt.ylabel(ylabel, fontsize = 22)\n",
    "    \n",
    "    plt.yticks(fontsize = 22)\n",
    "    plt.xticks([1,2, 3], ['GML', 'GCV', 'Sampling'], fontsize = 22)\n",
    "    plt.tick_params(left=True, bottom = True, right = False, top = False)\n",
    "    ax = plt.gca()\n",
    "    ax.set_facecolor('whitesmoke')\n",
    "    for spine in plt.gca().spines.values():\n",
    "        spine.set_visible(False)\n",
    "    plt.show\n",
    "    \n",
    "\n",
    "    my_path = os.getcwd()\n",
    "    fig.savefig(my_path + savename, bbox_inches='tight')\n",
    "    \n",
    "  \n",
    "plot_deg(errors, xlabel = 'Model', ylabel = 'RelErr',savename = \"/Plots/errors.pdf\")"
   ]
  },
  {
   "cell_type": "code",
   "execution_count": null,
   "metadata": {},
   "outputs": [],
   "source": [
    "fig = plt.figure()\n",
    "plt.hist(lamb[:,0], color = 'cornflowerblue')\n",
    "plt.ticklabel_format(axis = 'x', style = 'sci', scilimits=(0,0))\n",
    "plt.title('$\\\\lambda_{GML}$', fontsize = 16)\n",
    "plt.xticks(fontsize = 14)\n",
    "plt.yticks(fontsize = 14)\n",
    "ax = plt.gca()\n",
    "ax.set_facecolor('whitesmoke')\n",
    "for spine in plt.gca().spines.values():\n",
    "    spine.set_visible(False)\n",
    "ax.xaxis.get_offset_text().set_fontsize(14)\n",
    "my_path = os.getcwd()\n",
    "fig.savefig(my_path + '/Plots/hist_lambdaGML.pdf', bbox_inches='tight')\n",
    "\n",
    "fig = plt.figure()\n",
    "plt.hist(lamb[:,1], color = 'cornflowerblue')\n",
    "plt.ticklabel_format(axis = 'x', style = 'sci', scilimits=(0,0))\n",
    "plt.title('$\\\\lambda_{GCV}$', fontsize = 16)\n",
    "plt.xticks(fontsize = 14)\n",
    "plt.yticks(fontsize = 14)\n",
    "ax = plt.gca()\n",
    "ax.set_facecolor('whitesmoke')\n",
    "for spine in plt.gca().spines.values():\n",
    "    spine.set_visible(False)\n",
    "ax.xaxis.get_offset_text().set_fontsize(14)\n",
    "my_path = os.getcwd()\n",
    "fig.savefig(my_path + '/Plots/hist_lambdaGCV.pdf', bbox_inches='tight')"
   ]
  }
 ],
 "metadata": {
  "kernelspec": {
   "display_name": "Python 3",
   "language": "python",
   "name": "python3"
  },
  "language_info": {
   "codemirror_mode": {
    "name": "ipython",
    "version": 3
   },
   "file_extension": ".py",
   "mimetype": "text/x-python",
   "name": "python",
   "nbconvert_exporter": "python",
   "pygments_lexer": "ipython3",
   "version": "3.8.3"
  }
 },
 "nbformat": 4,
 "nbformat_minor": 4
}
