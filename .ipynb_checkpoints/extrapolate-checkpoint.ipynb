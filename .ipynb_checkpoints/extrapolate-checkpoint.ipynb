{
 "cells": [
  {
   "cell_type": "code",
   "execution_count": 15,
   "metadata": {},
   "outputs": [
    {
     "name": "stderr",
     "output_type": "stream",
     "text": [
      "<ipython-input-15-2e39154672fb>:51: DeprecationWarning: np.asscalar(a) is deprecated since NumPy v1.16, use a.item() instead\n",
      "  return np.asscalar(np.log(N) + 2*np.log(np.linalg.norm(alpha))- 2*np.log(np.linalg.norm(Linv,'fro')**2 - np.linalg.norm(LinvTQ,'fro')**2))\n"
     ]
    },
    {
     "data": {
      "image/png": "[encoded data removed]",
      "text/plain": [
       "<Figure size 432x288 with 1 Axes>"
      ]
     },
     "metadata": {},
     "output_type": "display_data"
    }
   ],
   "source": [
    "import numpy as np\n",
    "import pandas as pd\n",
    "from numpy.linalg import solve\n",
    "import matplotlib.pyplot as plt\n",
    "from scipy.linalg import qr\n",
    "from scipy import optimize\n",
    "from scipy import integrate\n",
    "from scipy.special import erfinv\n",
    "from scipy.optimize import minimize_scalar\n",
    "import egrss \n",
    "from sympy import Max\n",
    "\n",
    "def smoothing_spline_reg(Ut,Wt,z,yhat,obj = 'nothing'):\n",
    "    p,n = Ut.shape\n",
    "    B   = np.zeros((n,p))\n",
    "    for k in range(p):\n",
    "        B[:,k] = egrss.trsv(Ut,Wt,Ut[k,:].T, z,'N') \n",
    "    Q, R     = qr(B)\n",
    "    c        = egrss.trsv(Ut,Wt,yhat,z,'N')\n",
    "    c        = np.dot(Q.T,c)\n",
    "    d        = solve(R[0:p,0:p],c[0:p])\n",
    "    c[0:p]   = 0\n",
    "    c        = egrss.trsv(Ut,Wt,np.dot(Q,c), z,'T')\n",
    "    if obj == 'nothing':\n",
    "        return c, d\n",
    "    elif obj == 'gml': \n",
    "        log_glm  = np.log(np.dot(yhat.T,c)) + 2.0 / (n-p ) * (np.sum(np.log(z),axis = 0) + np.sum( np.log(np.abs(np.diag(R[0:p,0:p])))))\n",
    "        return c, d, log_glm\n",
    "    else:\n",
    "        raise Exception(\"Unknown objective\")\n",
    "\n",
    "def min_GCV(N, a, b, p, yhat, method, usage,  bounds = 'nothing', q = 'nothing'):\n",
    "    xi = (b-a) ** (2 * p - 1) \n",
    "    x = np.linspace(a,b,N)\n",
    "\n",
    "    def GCV(q):\n",
    "        lam = 1/np.power(10,q)\n",
    "        Ut, Vt = egrss.generators((x-a)/(b-a),p) \n",
    "        Wt, z  = egrss.potrf(Ut,Vt,N*lam/xi)\n",
    "        alpha ,d  = smoothing_spline_reg(Ut,Wt,z,yhat) \n",
    "        Linv = egrss.trtri2(Ut,Wt,z)\n",
    "        LinvF = np.zeros([N,p])\n",
    "        for i in range(p):\n",
    "            LinvF[:,i] = egrss.trsv(Ut,Wt,Ut[i,:], z,'N') \n",
    "        Q,R = np.linalg.qr(LinvF, mode = 'reduced')\n",
    "\n",
    "        LinvTQ = np.zeros([N,p])\n",
    "        for k in range(p):\n",
    "            LinvTQ[:,k] = egrss.trsv(Ut,Wt,Q[:,k],c=z,trans='T')\n",
    "\n",
    "        return np.asscalar(np.log(N) + 2*np.log(np.linalg.norm(alpha))- 2*np.log(np.linalg.norm(Linv,'fro')**2 - np.linalg.norm(LinvTQ,'fro')**2))\n",
    "\n",
    "    if usage == 'min':\n",
    "        min_point = minimize_scalar(GCV, bounds = bounds, method=method )\n",
    "        return min_point\n",
    "\n",
    "    elif usage == 'evaluate':\n",
    "        res = np.zeros(len(q))\n",
    "        for i in range(len(q)):\n",
    "            res[i] = GCV(q[i])\n",
    "        return res\n",
    "\n",
    "N = 90\n",
    "sigma = 0.1\n",
    "a, b = -0.2, 0.43\n",
    "p = 2  # degree of splines\n",
    "xi = (b-a) ** (2 * p - 1)\n",
    "x = np.linspace(a,b,N)\n",
    "Ut, Vt = egrss.generators((x-a)/(b-a),p)\n",
    "xextra = np.linspace(b, 0.5, 10)\n",
    "\n",
    "def y(x):\n",
    "    return 0.25*np.cos(4*np.pi *x) + 0.15*np.sin(12* np.pi *x) + 0.2 * x\n",
    "\n",
    "#np.random.seed(1)\n",
    "yhat = y(x) + sigma * np.random.normal(loc = 0, scale = 1, size = x.shape)\n",
    "\n",
    "# Finding the optimal lambda - GML\n",
    "res_GML = min_GCV(N, a, b, p, yhat, 'bounded', 'min',  (1,13))\n",
    "lam = 1/np.power(10,res_GML.x) \n",
    "Wt, z  = egrss.potrf(Ut,Vt,N*lam/xi)\n",
    "c,d    = smoothing_spline_reg(Ut,Wt,z,yhat)\n",
    "\n",
    "def phi(xextra, k, a, b):\n",
    "    value = (((xextra-a)/(b-a))**(k-1))/np.math.factorial(k-1)\n",
    "    return value\n",
    "\n",
    "\n",
    "def extrapolate(x, xextra, a, b, c, d, p, n):\n",
    "    value = 0\n",
    "\n",
    "    for i in range(p):\n",
    "        value += d[-i]*phi(xextra, i+1, a, b)\n",
    "    \n",
    "    for i in range(n):\n",
    "        f = lambda u:(max(0,xextra-u)**(p-1)/np.math.factorial(p-1))*(max(0,x[i]-u)**(p-1)/np.math.factorial(p-1))\n",
    "        value += c[i]*integrate.quad(f,a,b)[0]\n",
    "    \n",
    "    return value\n",
    "\n",
    "yextra = np.zeros([10])\n",
    "for i in range(10):\n",
    "    yextra[i] = extrapolate(x, xextra[i], a, b, c, d, p, N)\n",
    "\n",
    "\n",
    "fig2 = plt.figure()\n",
    "plt.plot(x,y(x),'--',color = 'navy', linewidth=1.5)\n",
    "plt.plot(x,yhat,'o',markersize = 4.5, color = 'cornflowerblue')\n",
    "plt.plot(xextra, yextra ,color = 'tomato', linewidth=1.2)\n",
    "plt.plot(x,yhat-N*lam/xi*c,color = 'tomato', linewidth=1.2)\n",
    "plt.xticks([])\n",
    "plt.yticks([])\n",
    "plt.xlim([a-0.07,b+0.07])\n",
    "plt.tick_params(left=False, bottom = False, right = False, top = False)\n",
    "#plt.legend(['$y(x)$', '$\\hat{y}_i$','model'], numpoints = 1, prop = {'size': 14}, loc = 'lower right')\n",
    "ax = plt.gca()\n",
    "ax.set_facecolor('whitesmoke')\n",
    "for spine in plt.gca().spines.values():\n",
    "    spine.set_visible(False)\n",
    "# plt.title('Fit - pertubating a point', fontsize = 18)\n",
    "plt.show()\n"
   ]
  },
  {
   "cell_type": "code",
   "execution_count": 4,
   "metadata": {},
   "outputs": [
    {
     "ename": "ValueError",
     "evalue": "setting an array element with a sequence.",
     "output_type": "error",
     "traceback": [
      "\u001b[0;31m---------------------------------------------------------------------------\u001b[0m",
      "\u001b[0;31mTypeError\u001b[0m                                 Traceback (most recent call last)",
      "\u001b[0;31mTypeError\u001b[0m: only size-1 arrays can be converted to Python scalars",
      "\nThe above exception was the direct cause of the following exception:\n",
      "\u001b[0;31mValueError\u001b[0m                                Traceback (most recent call last)",
      "\u001b[0;32m<ipython-input-4-778dc8d85a2e>\u001b[0m in \u001b[0;36m<module>\u001b[0;34m\u001b[0m\n\u001b[0;32m----> 1\u001b[0;31m \u001b[0myextra\u001b[0m\u001b[0;34m[\u001b[0m\u001b[0mi\u001b[0m\u001b[0;34m]\u001b[0m \u001b[0;34m=\u001b[0m \u001b[0mextrapolate\u001b[0m\u001b[0;34m(\u001b[0m\u001b[0mx\u001b[0m\u001b[0;34m,\u001b[0m \u001b[0mxextra\u001b[0m\u001b[0;34m[\u001b[0m\u001b[0;36m0\u001b[0m\u001b[0;34m]\u001b[0m\u001b[0;34m,\u001b[0m \u001b[0ma\u001b[0m\u001b[0;34m,\u001b[0m \u001b[0mb\u001b[0m\u001b[0;34m,\u001b[0m \u001b[0mc\u001b[0m\u001b[0;34m,\u001b[0m \u001b[0md\u001b[0m\u001b[0;34m,\u001b[0m \u001b[0mp\u001b[0m\u001b[0;34m,\u001b[0m \u001b[0mN\u001b[0m\u001b[0;34m)\u001b[0m\u001b[0;34m\u001b[0m\u001b[0;34m\u001b[0m\u001b[0m\n\u001b[0m",
      "\u001b[0;31mValueError\u001b[0m: setting an array element with a sequence."
     ]
    }
   ],
   "source": [
    "yextra[i] = extrapolate(x, xextra[0], a, b, c, d, p, N)"
   ]
  },
  {
   "cell_type": "code",
   "execution_count": null,
   "metadata": {},
   "outputs": [],
   "source": []
  }
 ],
 "metadata": {
  "@webio": {
   "lastCommId": null,
   "lastKernelId": null
  },
  "kernelspec": {
   "display_name": "Python 3",
   "language": "python",
   "name": "python3"
  }
 },
 "nbformat": 4,
 "nbformat_minor": 5
}
