{
 "cells": [
  {
   "cell_type": "code",
   "execution_count": 24,
   "metadata": {},
   "outputs": [],
   "source": [
    "import numpy as np\n",
    "from numpy.linalg import solve\n",
    "import matplotlib.pyplot as plt\n",
    "from scipy.linalg import qr\n",
    "from scipy import optimize\n",
    "from scipy.special import erfinv\n",
    "from scipy.optimize import minimize_scalar\n",
    "import egrss \n",
    "import time\n",
    "import lambda_fun \n",
    "import os\n",
    "import random\n",
    "\n",
    "sigma = 0.1\n",
    "a,b   = -0.2, 0.5\n",
    "\n",
    "def y(x):\n",
    "    return 0.25*np.cos(4*np.pi *x) + 0.15*np.sin(12* np.pi *x) + 0.2 * x"
   ]
  },
  {
   "cell_type": "code",
   "execution_count": 50,
   "metadata": {},
   "outputs": [
    {
     "name": "stdout",
     "output_type": "stream",
     "text": [
      "model: GML, N: 100, degree: 1, time: 0.10208368301391602 seconds\n",
      "model: GML, N: 100, degree: 2, time: 0.0695958137512207 seconds\n",
      "model: GML, N: 100, degree: 3, time: 0.07997608184814453 seconds\n",
      "model: GML, N: 100, degree: 4, time: 0.29659509658813477 seconds\n",
      "model: GML, N: 100, degree: 5, time: 0.17943501472473145 seconds\n",
      "model: GML, N: 100, degree: 1, time: 0.09015393257141113 seconds\n",
      "model: GML, N: 100, degree: 2, time: 0.06786394119262695 seconds\n",
      "model: GML, N: 100, degree: 3, time: 0.12334179878234863 seconds\n",
      "model: GML, N: 100, degree: 4, time: 0.275982141494751 seconds\n",
      "model: GML, N: 100, degree: 5, time: 0.14846205711364746 seconds\n",
      "model: GML, N: 100, degree: 1, time: 0.05228018760681152 seconds\n",
      "model: GML, N: 100, degree: 2, time: 0.08367419242858887 seconds\n",
      "model: GML, N: 100, degree: 3, time: 0.0733177661895752 seconds\n",
      "model: GML, N: 100, degree: 4, time: 0.11964201927185059 seconds\n",
      "model: GML, N: 100, degree: 5, time: 0.28430795669555664 seconds\n",
      "model: GML, N: 100, degree: 1, time: 0.05402493476867676 seconds\n",
      "model: GML, N: 100, degree: 2, time: 0.060665130615234375 seconds\n",
      "model: GML, N: 100, degree: 3, time: 0.08480525016784668 seconds\n",
      "model: GML, N: 100, degree: 4, time: 0.25881409645080566 seconds\n",
      "model: GML, N: 100, degree: 5, time: 0.19568777084350586 seconds\n",
      "model: GML, N: 100, degree: 1, time: 0.0913858413696289 seconds\n",
      "model: GML, N: 100, degree: 2, time: 0.07209277153015137 seconds\n",
      "model: GML, N: 100, degree: 3, time: 0.09693002700805664 seconds\n",
      "model: GML, N: 100, degree: 4, time: 0.2722749710083008 seconds\n",
      "model: GML, N: 100, degree: 5, time: 0.2842378616333008 seconds\n",
      "model: GML, N: 100, degree: 1, time: 0.06661605834960938 seconds\n",
      "model: GML, N: 100, degree: 2, time: 0.06105804443359375 seconds\n",
      "model: GML, N: 100, degree: 3, time: 0.12089085578918457 seconds\n",
      "model: GML, N: 100, degree: 4, time: 0.25694990158081055 seconds\n",
      "model: GML, N: 100, degree: 5, time: 0.13384008407592773 seconds\n",
      "model: GML, N: 100, degree: 1, time: 0.05854368209838867 seconds\n",
      "model: GML, N: 100, degree: 2, time: 0.08937788009643555 seconds\n",
      "model: GML, N: 100, degree: 3, time: 0.08004522323608398 seconds\n",
      "model: GML, N: 100, degree: 4, time: 0.2789738178253174 seconds\n",
      "model: GML, N: 100, degree: 5, time: 0.1703200340270996 seconds\n",
      "model: GML, N: 100, degree: 1, time: 0.06604409217834473 seconds\n",
      "model: GML, N: 100, degree: 2, time: 0.06528019905090332 seconds\n",
      "model: GML, N: 100, degree: 3, time: 0.07899594306945801 seconds\n",
      "model: GML, N: 100, degree: 4, time: 0.2462320327758789 seconds\n",
      "model: GML, N: 100, degree: 5, time: 0.14759516716003418 seconds\n",
      "model: GML, N: 100, degree: 1, time: 0.06860804557800293 seconds\n",
      "model: GML, N: 100, degree: 2, time: 0.08710813522338867 seconds\n",
      "model: GML, N: 100, degree: 3, time: 0.0741739273071289 seconds\n",
      "model: GML, N: 100, degree: 4, time: 0.24699878692626953 seconds\n",
      "model: GML, N: 100, degree: 5, time: 0.27776312828063965 seconds\n",
      "model: GML, N: 100, degree: 1, time: 0.06874585151672363 seconds\n",
      "model: GML, N: 100, degree: 2, time: 0.06914114952087402 seconds\n",
      "model: GML, N: 100, degree: 3, time: 0.10628414154052734 seconds\n",
      "model: GML, N: 100, degree: 4, time: 0.11336493492126465 seconds\n",
      "model: GML, N: 100, degree: 5, time: 0.15874123573303223 seconds\n",
      "model: GCV, N: 100, degree: 1, time: 0.4036269187927246 seconds\n",
      "model: GCV, N: 100, degree: 2, time: 0.4891982078552246 seconds\n",
      "model: GCV, N: 100, degree: 3, time: 0.6150860786437988 seconds\n",
      "model: GCV, N: 100, degree: 4, time: 1.2171528339385986 seconds\n",
      "model: GCV, N: 100, degree: 5, time: 1.4054489135742188 seconds\n",
      "model: GCV, N: 100, degree: 1, time: 0.7445051670074463 seconds\n",
      "model: GCV, N: 100, degree: 2, time: 0.7762038707733154 seconds\n",
      "model: GCV, N: 100, degree: 3, time: 1.001396894454956 seconds\n",
      "model: GCV, N: 100, degree: 4, time: 1.8220438957214355 seconds\n",
      "model: GCV, N: 100, degree: 5, time: 1.8393821716308594 seconds\n",
      "model: GCV, N: 100, degree: 1, time: 0.41688990592956543 seconds\n",
      "model: GCV, N: 100, degree: 2, time: 0.42552709579467773 seconds\n",
      "model: GCV, N: 100, degree: 3, time: 0.7092509269714355 seconds\n",
      "model: GCV, N: 100, degree: 4, time: 1.2555170059204102 seconds\n",
      "model: GCV, N: 100, degree: 5, time: 1.2477691173553467 seconds\n",
      "model: GCV, N: 100, degree: 1, time: 0.49161791801452637 seconds\n",
      "model: GCV, N: 100, degree: 2, time: 0.594904899597168 seconds\n",
      "model: GCV, N: 100, degree: 3, time: 0.8496778011322021 seconds\n",
      "model: GCV, N: 100, degree: 4, time: 1.0730071067810059 seconds\n",
      "model: GCV, N: 100, degree: 5, time: 1.1280629634857178 seconds\n",
      "model: GCV, N: 100, degree: 1, time: 0.48226261138916016 seconds\n",
      "model: GCV, N: 100, degree: 2, time: 0.4547309875488281 seconds\n",
      "model: GCV, N: 100, degree: 3, time: 0.5369467735290527 seconds\n",
      "model: GCV, N: 100, degree: 4, time: 1.2447011470794678 seconds\n",
      "model: GCV, N: 100, degree: 5, time: 1.150630235671997 seconds\n",
      "model: GCV, N: 100, degree: 1, time: 0.6246488094329834 seconds\n",
      "model: GCV, N: 100, degree: 2, time: 0.41730213165283203 seconds\n",
      "model: GCV, N: 100, degree: 3, time: 0.7532379627227783 seconds\n",
      "model: GCV, N: 100, degree: 4, time: 1.1372230052947998 seconds\n",
      "model: GCV, N: 100, degree: 5, time: 1.2225611209869385 seconds\n",
      "model: GCV, N: 100, degree: 1, time: 0.4646940231323242 seconds\n",
      "model: GCV, N: 100, degree: 2, time: 0.5314607620239258 seconds\n",
      "model: GCV, N: 100, degree: 3, time: 0.6493937969207764 seconds\n",
      "model: GCV, N: 100, degree: 4, time: 1.2147979736328125 seconds\n",
      "model: GCV, N: 100, degree: 5, time: 0.7473070621490479 seconds\n",
      "model: GCV, N: 100, degree: 1, time: 0.48896193504333496 seconds\n",
      "model: GCV, N: 100, degree: 2, time: 0.5664188861846924 seconds\n",
      "model: GCV, N: 100, degree: 3, time: 0.8237402439117432 seconds\n",
      "model: GCV, N: 100, degree: 4, time: 1.1709980964660645 seconds\n",
      "model: GCV, N: 100, degree: 5, time: 1.1260197162628174 seconds\n",
      "model: GCV, N: 100, degree: 1, time: 0.4527592658996582 seconds\n",
      "model: GCV, N: 100, degree: 2, time: 0.5256080627441406 seconds\n",
      "model: GCV, N: 100, degree: 3, time: 0.6978790760040283 seconds\n",
      "model: GCV, N: 100, degree: 4, time: 1.1699578762054443 seconds\n",
      "model: GCV, N: 100, degree: 5, time: 1.211721420288086 seconds\n",
      "model: GCV, N: 100, degree: 1, time: 0.4343118667602539 seconds\n",
      "model: GCV, N: 100, degree: 2, time: 0.4460000991821289 seconds\n",
      "model: GCV, N: 100, degree: 3, time: 0.5642352104187012 seconds\n",
      "model: GCV, N: 100, degree: 4, time: 1.11444091796875 seconds\n",
      "model: GCV, N: 100, degree: 5, time: 1.155724048614502 seconds\n"
     ]
    }
   ],
   "source": [
    "# finding runtimes for varying degrees\n",
    "degree_range = range(1,6)\n",
    "GML_deg = np.zeros([10,5])\n",
    "N = 100\n",
    "for i in range(10):\n",
    "    for j in range(5):\n",
    "        x = np.linspace(a,b, N)\n",
    "        yhat = y(x) + sigma * np.random.normal(loc = 0, scale = 1, size = N)\n",
    "        start_time = time.time()\n",
    "        res_GML = lambda_fun.min_GML(N = 100, x = x, p = degree_range[j], yhat = yhat, method = 'bounded', usage = 'min', bounds = (1,12))\n",
    "        GML_deg[i, j] = (time.time() - start_time)\n",
    "        print(\"model: GML, N: %d, degree: %d, time: %s seconds\" % (N, degree_range[j], time.time() - start_time))\n",
    "\n",
    "GCV_deg = np.zeros([10,5])\n",
    "for i in range(10):\n",
    "    for j in range(5):\n",
    "        x = np.linspace(a,b, N)\n",
    "        yhat = y(x) + sigma * np.random.normal(loc = 0, scale = 1, size = N)\n",
    "        start_time = time.time()\n",
    "        res_GCV = lambda_fun.min_GCV(N = 100, x = x , p = degree_range[j], yhat = yhat, method = 'bounded', usage = 'min', bounds = (1,12))\n",
    "        GCV_deg[i, j] = (time.time() - start_time)\n",
    "        print(\"model: GCV, N: %d, degree: %d, time: %s seconds\" % (N, degree_range[j], time.time() - start_time))\n",
    "\n",
    "     "
   ]
  },
  {
   "cell_type": "code",
   "execution_count": 4,
   "metadata": {},
   "outputs": [
    {
     "name": "stdout",
     "output_type": "stream",
     "text": [
      "model: GML, N: 100, degree: 2, time: 0.08620786666870117 seconds\n",
      "model: GML, N: 193, degree: 2, time: 0.09174919128417969 seconds\n",
      "model: GML, N: 372, degree: 2, time: 0.18072175979614258 seconds\n",
      "model: GML, N: 719, degree: 2, time: 0.33908677101135254 seconds\n",
      "model: GML, N: 1389, degree: 2, time: 0.5967237949371338 seconds\n",
      "model: GML, N: 2682, degree: 2, time: 1.2113189697265625 seconds\n",
      "model: GML, N: 5179, degree: 2, time: 2.8240489959716797 seconds\n",
      "model: GML, N: 10000, degree: 2, time: 4.074703931808472 seconds\n",
      "model: GCV, N: 100, degree: 2, time: 0.36302995681762695 seconds\n",
      "model: GCV, N: 193, degree: 2, time: 1.278425693511963 seconds\n",
      "model: GCV, N: 372, degree: 2, time: 4.149745225906372 seconds\n",
      "model: GCV, N: 719, degree: 2, time: 15.405523777008057 seconds\n",
      "model: GCV, N: 1389, degree: 2, time: 38.36375021934509 seconds\n",
      "model: GCV, N: 2682, degree: 2, time: 189.31311631202698 seconds\n",
      "model: GCV, N: 5179, degree: 2, time: 601.6472778320312 seconds\n",
      "model: GCV, N: 10000, degree: 2, time: 2659.7614238262177 seconds\n"
     ]
    }
   ],
   "source": [
    "   \n",
    "        \n",
    "# finding runtimes for varying numbers of observations\n",
    "p = 2\n",
    "numpoints = np.logspace(2,4,8, dtype = int)  \n",
    "GML_N = np.zeros([len(numpoints),1])\n",
    "p = 2\n",
    "for i in range(len(numpoints)):\n",
    "    for j in range(1):\n",
    "        N = numpoints[i]\n",
    "        x = np.linspace(a,b, N)\n",
    "        yhat = y(x) + sigma * np.random.normal(loc = 0, scale = 1, size = N)\n",
    "        start_time = time.time()\n",
    "        res_GML = lambda_fun.min_GML(N = N, x = x, p = 2, yhat = yhat, method = 'bounded', usage = 'min', bounds = (1,12))\n",
    "        GML_N[i, j] = (time.time() - start_time)\n",
    "        print(\"model: GML, N: %d, degree: %d, time: %s seconds\" % (N, p, time.time() - start_time))\n",
    "\n",
    "numpoints = np.logspace(2,4,8, dtype = int) \n",
    "GCV_N = np.zeros([len(numpoints),1])\n",
    "p = 2\n",
    "for i in range(len(numpoints)):\n",
    "    for j in range(1):\n",
    "        N = numpoints[i]\n",
    "        x = np.linspace(a,b, N)\n",
    "        yhat = y(x) + sigma * np.random.normal(loc = 0, scale = 1, size = N)\n",
    "        start_time = time.time()\n",
    "        res_GCV = lambda_fun.min_GCV(N = N, x = x, p = 2, yhat = yhat, method = 'bounded', usage = 'min', bounds = (1,12))\n",
    "        GCV_N[i, j] = (time.time() - start_time)\n",
    "        print(\"model: GCV, N: %d, degree: %d, time: %s seconds\" % (N, p, time.time() - start_time))"
   ]
  },
  {
   "cell_type": "code",
   "execution_count": 52,
   "metadata": {},
   "outputs": [
    {
     "data": {
      "image/png": "[encoded data removed]",
      "text/plain": [
       "<Figure size 432x288 with 1 Axes>"
      ]
     },
     "metadata": {
      "needs_background": "light"
     },
     "output_type": "display_data"
    },
    {
     "data": {
      "image/png": "[encoded data removed]",
      "text/plain": [
       "<Figure size 432x288 with 1 Axes>"
      ]
     },
     "metadata": {
      "needs_background": "light"
     },
     "output_type": "display_data"
    }
   ],
   "source": [
    "def plot_deg(y, xlabel, ylabel, savename):\n",
    "    fig = plt.figure()\n",
    "    ax = fig.add_axes([0, 0,  1, 1])\n",
    "    c = 'lavender'\n",
    "    d = 'mediumpurple'\n",
    "    lw = 1.8\n",
    "    bp = ax.boxplot(y, positions=[1,2,3,4,5], patch_artist=True,\n",
    "            boxprops=dict(facecolor=c, color=d, linewidth = lw),\n",
    "            capprops=dict(color=d, linewidth = lw),\n",
    "            whiskerprops=dict(color=d , linewidth = lw),\n",
    "            flierprops=dict(color=d, markeredgecolor=d, marker='o', markerfacecolor=d, markersize=8,linewidth = lw),\n",
    "            medianprops=dict(color=d),\n",
    "            )\n",
    "    plt.xlabel(xlabel, fontsize = 22)\n",
    "    plt.ylabel(ylabel, fontsize = 22)\n",
    "    \n",
    "    plt.yticks(fontsize = 22)\n",
    "    plt.xticks(fontsize = 22)\n",
    "    plt.tick_params(left=True, bottom = True, right = False, top = False)\n",
    "    ax = plt.gca()\n",
    "    ax.set_facecolor('whitesmoke')\n",
    "    for spine in plt.gca().spines.values():\n",
    "        spine.set_visible(False)\n",
    "    plt.show\n",
    "    \n",
    "\n",
    "    my_path = os.getcwd()\n",
    "    fig.savefig(my_path + savename, bbox_inches='tight')\n",
    "    \n",
    "  \n",
    "plot_deg(GML_deg, xlabel = 's', ylabel = 'time [s]',savename = \"/Plots/GML_deg.pdf\")\n",
    "\n",
    "plot_deg(GCV_deg, xlabel = 's', ylabel = 'time [s]', savename = \"/Plots/GCV_deg.pdf\")"
   ]
  },
  {
   "cell_type": "code",
   "execution_count": 5,
   "metadata": {},
   "outputs": [
    {
     "data": {
      "image/png": "[encoded data removed]",
      "text/plain": [
       "<Figure size 432x288 with 1 Axes>"
      ]
     },
     "metadata": {
      "needs_background": "light"
     },
     "output_type": "display_data"
    },
    {
     "data": {
      "image/png": "[encoded data removed]",
      "text/plain": [
       "<Figure size 432x288 with 1 Axes>"
      ]
     },
     "metadata": {
      "needs_background": "light"
     },
     "output_type": "display_data"
    }
   ],
   "source": [
    "def plot_N(x,y, col, xlabel, ylabel, savename):\n",
    "    fig = plt.figure()\n",
    "    x1 = np.linspace(np.min(x), np.max(x), 100)\n",
    "    y0mean = np.mean(y[0,:])\n",
    "    y1mean = np.mean(y[1,:])\n",
    "    plt.loglog(x1,y0mean/x[0]*x1, '-' , linewidth = 2.5, color= 'hotpink', label = '$\\mathcal{O}(N)$')\n",
    "    plt.loglog(x1, y0mean/(x[0]**2)*x1**2 , '-' , linewidth = 2.5, color= 'mediumpurple', label = '$\\mathcal{O}(N^2)$')\n",
    "    plt.loglog(x,y, '.' ,color = col, markersize = 10, label = 'runtimes')\n",
    "    plt.legend(loc = 'best', fontsize = 15)\n",
    "\n",
    "    ax = plt.gca()\n",
    "    ax.set_facecolor('whitesmoke')\n",
    "    plt.xlabel(xlabel, fontsize = 15)\n",
    "    plt.ylabel(ylabel, fontsize = 15)\n",
    "    \n",
    "    plt.yticks(fontsize = 15)\n",
    "    plt.xticks(fontsize = 15)\n",
    "    plt.tick_params(left=True, bottom = True, right = False, top = False)\n",
    "    ax = plt.gca()\n",
    "    ax.set_facecolor('whitesmoke')\n",
    "    for spine in plt.gca().spines.values():\n",
    "        spine.set_visible(False)\n",
    "    plt.show\n",
    "    \n",
    "    my_path = os.getcwd()\n",
    "    fig.savefig(my_path + savename, bbox_inches='tight')\n",
    "    \n",
    "    \n",
    "\n",
    "\n",
    "plot_N(numpoints, GML_N, 'navy', xlabel = 'N', ylabel = 'time [s]', savename = \"/Plots/GML_N.pdf\")\n",
    "\n",
    "plot_N(numpoints, GCV_N, 'navy', xlabel = 'N', ylabel = 'time [s]', savename = \"/Plots/GCV_N.pdf\")"
   ]
  },
  {
   "cell_type": "code",
   "execution_count": 7,
   "metadata": {},
   "outputs": [
    {
     "data": {
      "text/plain": [
       "array([[0.11550999, 0.08189797, 0.11734509, 0.17287707, 0.25814772],\n",
       "       [0.07212877, 0.08272409, 0.11615014, 0.14732909, 0.30830407],\n",
       "       [0.06015706, 0.06230879, 0.07232594, 0.12241507, 0.30157304],\n",
       "       [0.053514  , 0.07342172, 0.1556468 , 0.25994802, 0.31876516],\n",
       "       [0.09831119, 0.0689292 , 0.12178302, 0.25885797, 0.29145885],\n",
       "       [0.05873704, 0.0653162 , 0.10436392, 0.156991  , 0.28403878],\n",
       "       [0.06217194, 0.05769014, 0.11714602, 0.29141879, 0.31760406],\n",
       "       [0.12961674, 0.14775705, 0.09630513, 0.1130228 , 0.16597986],\n",
       "       [0.11020184, 0.13288903, 0.19343472, 0.29232502, 0.42227316],\n",
       "       [0.05210209, 0.07115698, 0.09233093, 0.38988185, 0.28069305]])"
      ]
     },
     "execution_count": 7,
     "metadata": {},
     "output_type": "execute_result"
    }
   ],
   "source": [
    "GML_deg"
   ]
  },
  {
   "cell_type": "code",
   "execution_count": 60,
   "metadata": {},
   "outputs": [
    {
     "data": {
      "text/plain": [
       "0.08242213726043701"
      ]
     },
     "execution_count": 60,
     "metadata": {},
     "output_type": "execute_result"
    }
   ],
   "source": [
    "deg3 = GML_deg[:,2]\n",
    "np.median(deg3)"
   ]
  },
  {
   "cell_type": "code",
   "execution_count": 61,
   "metadata": {},
   "outputs": [
    {
     "data": {
      "text/plain": [
       "0.25787806510925293"
      ]
     },
     "execution_count": 61,
     "metadata": {},
     "output_type": "execute_result"
    }
   ],
   "source": [
    "deg4 = GML_deg[:,3]\n",
    "np.median(deg4)"
   ]
  },
  {
   "cell_type": "code",
   "execution_count": 62,
   "metadata": {},
   "outputs": [
    {
     "data": {
      "text/plain": [
       "0.7035611867904663"
      ]
     },
     "execution_count": 62,
     "metadata": {},
     "output_type": "execute_result"
    }
   ],
   "source": [
    "deg3 = GCV_deg[:,2]\n",
    "np.median(deg3)"
   ]
  },
  {
   "cell_type": "code",
   "execution_count": 63,
   "metadata": {},
   "outputs": [
    {
     "data": {
      "text/plain": [
       "1.1928956508636475"
      ]
     },
     "execution_count": 63,
     "metadata": {},
     "output_type": "execute_result"
    }
   ],
   "source": [
    "deg4 = GCV_deg[:,3]\n",
    "np.median(deg4)"
   ]
  },
  {
   "cell_type": "code",
   "execution_count": null,
   "metadata": {},
   "outputs": [],
   "source": []
  }
 ],
 "metadata": {
  "@webio": {
   "lastCommId": null,
   "lastKernelId": null
  },
  "kernelspec": {
   "display_name": "Python 3",
   "language": "python",
   "name": "python3"
  },
  "language_info": {
   "codemirror_mode": {
    "name": "ipython",
    "version": 3
   },
   "file_extension": ".py",
   "mimetype": "text/x-python",
   "name": "python",
   "nbconvert_exporter": "python",
   "pygments_lexer": "ipython3",
   "version": "3.8.5"
  }
 },
 "nbformat": 4,
 "nbformat_minor": 4
}
