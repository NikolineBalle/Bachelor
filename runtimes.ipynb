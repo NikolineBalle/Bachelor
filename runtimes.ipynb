{
 "cells": [
  {
   "cell_type": "code",
   "execution_count": null,
   "metadata": {},
   "outputs": [],
   "source": [
    "import numpy as np\n",
    "from numpy.linalg import solve\n",
    "import matplotlib.pyplot as plt\n",
    "from scipy.linalg import qr\n",
    "from scipy import optimize\n",
    "from scipy.special import erfinv\n",
    "from scipy.optimize import minimize_scalar\n",
    "import egrss \n",
    "import time\n",
    "import lambda_fun \n",
    "import os\n",
    "\n",
    "sigma = 0.1\n",
    "a,b   = -0.2, 0.5\n",
    "\n",
    "def y(x):\n",
    "    return 0.25*np.cos(4*np.pi *x) + 0.15*np.sin(12* np.pi *x) + 0.2 * x"
   ]
  },
  {
   "cell_type": "code",
   "execution_count": null,
   "metadata": {},
   "outputs": [],
   "source": [
    "# finding runtimes for varying degrees\n",
    "degree_range = range(1,6)\n",
    "GML_deg = np.zeros([10,5])\n",
    "N = 100\n",
    "for i in range(10):\n",
    "    for j in range(5):\n",
    "        x = np.linspace(a,b, N)\n",
    "        yhat = y(x) + sigma * np.random.normal(loc = 0, scale = 1, size = N)\n",
    "        start_time = time.time()\n",
    "        res_GML = lambda_fun.min_GML(N = 100, x = x, p = degree_range[j], yhat = yhat, method = 'bounded', usage = 'min', bounds = (1,12))\n",
    "        GML_deg[i, j] = (time.time() - start_time)\n",
    "        print(\"model: GML, N: %d, degree: %d, time: %s seconds\" % (N, degree_range[j], time.time() - start_time))\n",
    "\n",
    "GCV_deg = np.zeros([10,5])\n",
    "for i in range(10):\n",
    "    for j in range(5):\n",
    "        x = np.linspace(a,b, N)\n",
    "        yhat = y(x) + sigma * np.random.normal(loc = 0, scale = 1, size = N)\n",
    "        start_time = time.time()\n",
    "        res_GCV = lambda_fun.min_GCV(N = 100, x = x , p = degree_range[j], yhat = yhat, method = 'bounded', usage = 'min', bounds = (1,12))\n",
    "        GCV_deg[i, j] = (time.time() - start_time)\n",
    "        print(\"model: GCV, N: %d, degree: %d, time: %s seconds\" % (N, degree_range[j], time.time() - start_time))\n",
    "\n",
    "        "
   ]
  },
  {
   "cell_type": "code",
   "execution_count": null,
   "metadata": {},
   "outputs": [],
   "source": [
    "p = 2"
   ]
  },
  {
   "cell_type": "code",
   "execution_count": null,
   "metadata": {},
   "outputs": [],
   "source": [
    "# finding runtimes for varying numbers of observations\n",
    "numpoints = np.linspace(2, 2000, 10, dtype = int)\n",
    "GML_N = np.zeros([len(numpoints),10])\n",
    "p = 2\n",
    "for i in range(len(numpoints)):\n",
    "    for j in range(10):\n",
    "        N = numpoints[j]\n",
    "        x = np.linspace(a,b, N)\n",
    "        yhat = y(x) + sigma * np.random.normal(loc = 0, scale = 1, size = N)\n",
    "        start_time = time.time()\n",
    "        res_GML = lambda_fun.min_GML(N = numpoints[j], x = x, p = 2, yhat = yhat, method = 'bounded', usage = 'min', bounds = (1,12))\n",
    "        GML_N[i, j] = (time.time() - start_time)\n",
    "        print(\"model: GML, N: %d, degree: %d, time: %s seconds\" % (numpoints[j], p, time.time() - start_time))"
   ]
  },
  {
   "cell_type": "code",
   "execution_count": null,
   "metadata": {},
   "outputs": [],
   "source": [
    "GCV_N = np.zeros([8, 10])\n",
    "numpointslog = np.logspace(2,4,8, dtype = int)\n",
    "for i in range(10):\n",
    "    for j in range(len(numpointslog)):\n",
    "        N = numpointslog[j]\n",
    "        x = np.linspace(a,b, N)\n",
    "        yhat = y(x) + sigma * np.random.normal(loc = 0, scale = 1, size = N)\n",
    "        start_time = time.time()\n",
    "        res_GCV = lambda_fun.min_GCV(N = numpointslog[j], x = x, p = 2, yhat = yhat, method = 'bounded', usage = 'min', bounds = (1,12))\n",
    "        GCV_N[i, j] = (time.time() - start_time)\n",
    "        print(\"model: GCV, N: %d, degree: %d, time: %s seconds\" % (numpointslog[j], p , time.time() - start_time))\n",
    "\n",
    "my_path = os.getcwd()\n",
    "np.save(my_path + \"/Data/GCV_N.npy\", GCV_N)"
   ]
  },
  {
   "cell_type": "code",
   "execution_count": null,
   "metadata": {},
   "outputs": [],
   "source": [
    "def plot(x,y, col, xlabel, ylabel, savename, rounding):\n",
    "    fig = plt.figure()\n",
    "    for i in range(10):\n",
    "        plt.plot(x,y[i, :], color = col, linewidth = 2.5, alpha = 0.4)\n",
    "    ax = plt.gca()\n",
    "    ax.set_facecolor('whitesmoke')\n",
    "    plt.xlabel(xlabel, fontsize = 15)\n",
    "    plt.ylabel(ylabel, fontsize = 15)\n",
    "    plt.xticks(np.around(x, decimals = rounding), fontsize = 15)\n",
    "    plt.yticks(fontsize = 15)\n",
    "    plt.tick_params(left=True, bottom = True, right = False, top = False)\n",
    "    ax = plt.gca()\n",
    "    ax.set_facecolor('whitesmoke')\n",
    "    for spine in plt.gca().spines.values():\n",
    "        spine.set_visible(False)\n",
    "    plt.show\n",
    "    my_path = os.getcwd()\n",
    "    fig.savefig(my_path + savename, bbox_inches='tight')\n",
    "    \n",
    "    \n",
    "\n",
    "plot(degree_range, GML_deg, 'cornflowerblue' ,xlabel = 's', ylabel = 'time [s]',savename = \"/Plots/GML_deg.pdf\", rounding = 0)\n",
    "\n",
    "plot(degree_range, GCV_deg,'cornflowerblue', xlabel = 's', ylabel = 'time [s]', savename = \"/Plots/GCV_deg.pdf\", rounding = 0)\n",
    "\n",
    "plot(numpoints, GML_N, 'navy', xlabel = 'N', ylabel = 'time [s]', savename = \"/Plots/GML_N.pdf\", rounding = -3)\n",
    "\n",
    "plot(np.log10(numpointslog), np.log10(GCV_N[:,0:8]), 'navy', xlabel = 'log(N)', ylabel = 'log(time) [s]', savename = \"/Plots/GCV_N.pdf\", rounding = 0)\n",
    "\n"
   ]
  }
 ],
 "metadata": {
  "@webio": {
   "lastCommId": null,
   "lastKernelId": null
  },
  "kernelspec": {
   "display_name": "Python 3",
   "language": "python",
   "name": "python3"
  },
  "language_info": {
   "codemirror_mode": {
    "name": "ipython",
    "version": 3
   },
   "file_extension": ".py",
   "mimetype": "text/x-python",
   "name": "python",
   "nbconvert_exporter": "python",
   "pygments_lexer": "ipython3",
   "version": "3.8.3"
  }
 },
 "nbformat": 4,
 "nbformat_minor": 4
}
