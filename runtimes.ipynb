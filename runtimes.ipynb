{
 "cells": [
  {
   "cell_type": "code",
   "execution_count": 2,
   "metadata": {},
   "outputs": [],
   "source": [
    "import numpy as np\n",
    "from numpy.linalg import solve\n",
    "import matplotlib.pyplot as plt\n",
    "from scipy.linalg import qr\n",
    "from scipy import optimize\n",
    "from scipy.special import erfinv\n",
    "from scipy.optimize import minimize_scalar\n",
    "import egrss \n",
    "import time\n",
    "import lambda_fun \n",
    "import os\n",
    "\n",
    "sigma = 0.1\n",
    "a,b   = -0.2, 0.5\n",
    "\n",
    "def y(x):\n",
    "    return 0.25*np.cos(4*np.pi *x) + 0.15*np.sin(12* np.pi *x) + 0.2 * x"
   ]
  },
  {
   "cell_type": "code",
   "execution_count": 3,
   "metadata": {},
   "outputs": [
    {
     "name": "stdout",
     "output_type": "stream",
     "text": [
      "model: GML, N: 100, degree: 1, time: 0.056817054748535156 seconds\n",
      "model: GML, N: 100, degree: 2, time: 0.05837416648864746 seconds\n",
      "model: GML, N: 100, degree: 3, time: 0.06588602066040039 seconds\n",
      "model: GML, N: 100, degree: 4, time: 0.20209121704101562 seconds\n",
      "model: GML, N: 100, degree: 5, time: 0.2115340232849121 seconds\n",
      "model: GML, N: 100, degree: 1, time: 0.05015206336975098 seconds\n",
      "model: GML, N: 100, degree: 2, time: 0.06510376930236816 seconds\n",
      "model: GML, N: 100, degree: 3, time: 0.06950902938842773 seconds\n",
      "model: GML, N: 100, degree: 4, time: 0.20682430267333984 seconds\n",
      "model: GML, N: 100, degree: 5, time: 0.2322711944580078 seconds\n",
      "model: GML, N: 100, degree: 1, time: 0.08950400352478027 seconds\n",
      "model: GML, N: 100, degree: 2, time: 0.06300806999206543 seconds\n",
      "model: GML, N: 100, degree: 3, time: 0.11258602142333984 seconds\n",
      "model: GML, N: 100, degree: 4, time: 0.24442195892333984 seconds\n",
      "model: GML, N: 100, degree: 5, time: 0.2841477394104004 seconds\n",
      "model: GML, N: 100, degree: 1, time: 0.06151986122131348 seconds\n",
      "model: GML, N: 100, degree: 2, time: 0.06253981590270996 seconds\n",
      "model: GML, N: 100, degree: 3, time: 0.0677640438079834 seconds\n",
      "model: GML, N: 100, degree: 4, time: 0.2249011993408203 seconds\n",
      "model: GML, N: 100, degree: 5, time: 0.19699716567993164 seconds\n",
      "model: GML, N: 100, degree: 1, time: 0.055860042572021484 seconds\n",
      "model: GML, N: 100, degree: 2, time: 0.055416107177734375 seconds\n",
      "model: GML, N: 100, degree: 3, time: 0.10471391677856445 seconds\n",
      "model: GML, N: 100, degree: 4, time: 0.24061894416809082 seconds\n",
      "model: GML, N: 100, degree: 5, time: 0.2332596778869629 seconds\n",
      "model: GML, N: 100, degree: 1, time: 0.05993795394897461 seconds\n",
      "model: GML, N: 100, degree: 2, time: 0.05321693420410156 seconds\n",
      "model: GML, N: 100, degree: 3, time: 0.07395482063293457 seconds\n",
      "model: GML, N: 100, degree: 4, time: 0.22742080688476562 seconds\n",
      "model: GML, N: 100, degree: 5, time: 0.2167832851409912 seconds\n",
      "model: GML, N: 100, degree: 1, time: 0.06715273857116699 seconds\n",
      "model: GML, N: 100, degree: 2, time: 0.09252786636352539 seconds\n",
      "model: GML, N: 100, degree: 3, time: 0.1098790168762207 seconds\n",
      "model: GML, N: 100, degree: 4, time: 0.3129270076751709 seconds\n",
      "model: GML, N: 100, degree: 5, time: 0.25455713272094727 seconds\n",
      "model: GML, N: 100, degree: 1, time: 0.04738926887512207 seconds\n",
      "model: GML, N: 100, degree: 2, time: 0.06560301780700684 seconds\n",
      "model: GML, N: 100, degree: 3, time: 0.0904839038848877 seconds\n",
      "model: GML, N: 100, degree: 4, time: 0.12111997604370117 seconds\n",
      "model: GML, N: 100, degree: 5, time: 0.28104376792907715 seconds\n",
      "model: GML, N: 100, degree: 1, time: 0.05784797668457031 seconds\n",
      "model: GML, N: 100, degree: 2, time: 0.0600438117980957 seconds\n",
      "model: GML, N: 100, degree: 3, time: 0.14678311347961426 seconds\n",
      "model: GML, N: 100, degree: 4, time: 0.08383536338806152 seconds\n",
      "model: GML, N: 100, degree: 5, time: 0.2553730010986328 seconds\n",
      "model: GML, N: 100, degree: 1, time: 0.04784893989562988 seconds\n",
      "model: GML, N: 100, degree: 2, time: 0.06293702125549316 seconds\n",
      "model: GML, N: 100, degree: 3, time: 0.08284187316894531 seconds\n",
      "model: GML, N: 100, degree: 4, time: 0.23132872581481934 seconds\n",
      "model: GML, N: 100, degree: 5, time: 0.13259482383728027 seconds\n",
      "model: GCV, N: 100, degree: 1, time: 0.38956713676452637 seconds\n",
      "model: GCV, N: 100, degree: 2, time: 0.5004971027374268 seconds\n",
      "model: GCV, N: 100, degree: 3, time: 0.5237689018249512 seconds\n",
      "model: GCV, N: 100, degree: 4, time: 1.2018067836761475 seconds\n",
      "model: GCV, N: 100, degree: 5, time: 1.3875021934509277 seconds\n",
      "model: GCV, N: 100, degree: 1, time: 0.4899320602416992 seconds\n",
      "model: GCV, N: 100, degree: 2, time: 0.658245325088501 seconds\n",
      "model: GCV, N: 100, degree: 3, time: 0.5921616554260254 seconds\n",
      "model: GCV, N: 100, degree: 4, time: 1.1411621570587158 seconds\n",
      "model: GCV, N: 100, degree: 5, time: 0.8512558937072754 seconds\n",
      "model: GCV, N: 100, degree: 1, time: 0.4951329231262207 seconds\n",
      "model: GCV, N: 100, degree: 2, time: 0.6285920143127441 seconds\n",
      "model: GCV, N: 100, degree: 3, time: 0.79134202003479 seconds\n",
      "model: GCV, N: 100, degree: 4, time: 1.489974021911621 seconds\n",
      "model: GCV, N: 100, degree: 5, time: 1.1988179683685303 seconds\n",
      "model: GCV, N: 100, degree: 1, time: 0.41019582748413086 seconds\n",
      "model: GCV, N: 100, degree: 2, time: 0.5182609558105469 seconds\n",
      "model: GCV, N: 100, degree: 3, time: 0.5703349113464355 seconds\n",
      "model: GCV, N: 100, degree: 4, time: 1.4712870121002197 seconds\n",
      "model: GCV, N: 100, degree: 5, time: 1.4565987586975098 seconds\n",
      "model: GCV, N: 100, degree: 1, time: 0.4188652038574219 seconds\n",
      "model: GCV, N: 100, degree: 2, time: 0.44977307319641113 seconds\n",
      "model: GCV, N: 100, degree: 3, time: 0.6010220050811768 seconds\n",
      "model: GCV, N: 100, degree: 4, time: 0.8814890384674072 seconds\n",
      "model: GCV, N: 100, degree: 5, time: 0.9111442565917969 seconds\n",
      "model: GCV, N: 100, degree: 1, time: 0.5064229965209961 seconds\n",
      "model: GCV, N: 100, degree: 2, time: 0.45905089378356934 seconds\n",
      "model: GCV, N: 100, degree: 3, time: 0.45580101013183594 seconds\n",
      "model: GCV, N: 100, degree: 4, time: 0.9067890644073486 seconds\n",
      "model: GCV, N: 100, degree: 5, time: 0.8543329238891602 seconds\n",
      "model: GCV, N: 100, degree: 1, time: 0.2923760414123535 seconds\n",
      "model: GCV, N: 100, degree: 2, time: 0.3504810333251953 seconds\n",
      "model: GCV, N: 100, degree: 3, time: 0.4578530788421631 seconds\n",
      "model: GCV, N: 100, degree: 4, time: 0.8126440048217773 seconds\n",
      "model: GCV, N: 100, degree: 5, time: 0.8326659202575684 seconds\n",
      "model: GCV, N: 100, degree: 1, time: 0.33642125129699707 seconds\n",
      "model: GCV, N: 100, degree: 2, time: 0.6284148693084717 seconds\n",
      "model: GCV, N: 100, degree: 3, time: 0.34258580207824707 seconds\n",
      "model: GCV, N: 100, degree: 4, time: 0.7906060218811035 seconds\n",
      "model: GCV, N: 100, degree: 5, time: 0.8375380039215088 seconds\n",
      "model: GCV, N: 100, degree: 1, time: 0.31224894523620605 seconds\n",
      "model: GCV, N: 100, degree: 2, time: 0.35446715354919434 seconds\n",
      "model: GCV, N: 100, degree: 3, time: 0.35825204849243164 seconds\n",
      "model: GCV, N: 100, degree: 4, time: 0.819533109664917 seconds\n",
      "model: GCV, N: 100, degree: 5, time: 0.6792700290679932 seconds\n",
      "model: GCV, N: 100, degree: 1, time: 0.29968905448913574 seconds\n",
      "model: GCV, N: 100, degree: 2, time: 0.39214015007019043 seconds\n",
      "model: GCV, N: 100, degree: 3, time: 0.41039085388183594 seconds\n",
      "model: GCV, N: 100, degree: 4, time: 0.7927298545837402 seconds\n",
      "model: GCV, N: 100, degree: 5, time: 0.8586957454681396 seconds\n"
     ]
    }
   ],
   "source": [
    "# finding runtimes for varying degrees\n",
    "degree_range = range(1,6)\n",
    "GML_deg = np.zeros([10,5])\n",
    "N = 100\n",
    "for i in range(10):\n",
    "    for j in range(5):\n",
    "        x = np.linspace(a,b, N)\n",
    "        yhat = y(x) + sigma * np.random.normal(loc = 0, scale = 1, size = N)\n",
    "        start_time = time.time()\n",
    "        res_GML = lambda_fun.min_GML(N = 100, x = x, p = degree_range[j], yhat = yhat, method = 'bounded', usage = 'min', bounds = (1,12))\n",
    "        GML_deg[i, j] = (time.time() - start_time)\n",
    "        print(\"model: GML, N: %d, degree: %d, time: %s seconds\" % (N, degree_range[j], time.time() - start_time))\n",
    "\n",
    "GCV_deg = np.zeros([10,5])\n",
    "for i in range(10):\n",
    "    for j in range(5):\n",
    "        x = np.linspace(a,b, N)\n",
    "        yhat = y(x) + sigma * np.random.normal(loc = 0, scale = 1, size = N)\n",
    "        start_time = time.time()\n",
    "        res_GCV = lambda_fun.min_GCV(N = 100, x = x , p = degree_range[j], yhat = yhat, method = 'bounded', usage = 'min', bounds = (1,12))\n",
    "        GCV_deg[i, j] = (time.time() - start_time)\n",
    "        print(\"model: GCV, N: %d, degree: %d, time: %s seconds\" % (N, degree_range[j], time.time() - start_time))\n",
    "\n",
    "     "
   ]
  },
  {
   "cell_type": "code",
   "execution_count": 4,
   "metadata": {},
   "outputs": [
    {
     "name": "stdout",
     "output_type": "stream",
     "text": [
      "model: GML, N: 100, degree: 2, time: 0.08620786666870117 seconds\n",
      "model: GML, N: 193, degree: 2, time: 0.09174919128417969 seconds\n",
      "model: GML, N: 372, degree: 2, time: 0.18072175979614258 seconds\n",
      "model: GML, N: 719, degree: 2, time: 0.33908677101135254 seconds\n",
      "model: GML, N: 1389, degree: 2, time: 0.5967237949371338 seconds\n",
      "model: GML, N: 2682, degree: 2, time: 1.2113189697265625 seconds\n",
      "model: GML, N: 5179, degree: 2, time: 2.8240489959716797 seconds\n",
      "model: GML, N: 10000, degree: 2, time: 4.074703931808472 seconds\n",
      "model: GCV, N: 100, degree: 2, time: 0.36302995681762695 seconds\n",
      "model: GCV, N: 193, degree: 2, time: 1.278425693511963 seconds\n",
      "model: GCV, N: 372, degree: 2, time: 4.149745225906372 seconds\n",
      "model: GCV, N: 719, degree: 2, time: 15.405523777008057 seconds\n",
      "model: GCV, N: 1389, degree: 2, time: 38.36375021934509 seconds\n",
      "model: GCV, N: 2682, degree: 2, time: 189.31311631202698 seconds\n",
      "model: GCV, N: 5179, degree: 2, time: 601.6472778320312 seconds\n",
      "model: GCV, N: 10000, degree: 2, time: 2659.7614238262177 seconds\n"
     ]
    }
   ],
   "source": [
    "   \n",
    "        \n",
    "# finding runtimes for varying numbers of observations\n",
    "p = 2\n",
    "numpoints = np.logspace(2,4,8, dtype = int)  \n",
    "GML_N = np.zeros([len(numpoints),1])\n",
    "p = 2\n",
    "for i in range(len(numpoints)):\n",
    "    for j in range(1):\n",
    "        N = numpoints[i]\n",
    "        x = np.linspace(a,b, N)\n",
    "        yhat = y(x) + sigma * np.random.normal(loc = 0, scale = 1, size = N)\n",
    "        start_time = time.time()\n",
    "        res_GML = lambda_fun.min_GML(N = N, x = x, p = 2, yhat = yhat, method = 'bounded', usage = 'min', bounds = (1,12))\n",
    "        GML_N[i, j] = (time.time() - start_time)\n",
    "        print(\"model: GML, N: %d, degree: %d, time: %s seconds\" % (N, p, time.time() - start_time))\n",
    "\n",
    "numpoints = np.logspace(2,4,8, dtype = int) \n",
    "GCV_N = np.zeros([len(numpoints),1])\n",
    "p = 2\n",
    "for i in range(len(numpoints)):\n",
    "    for j in range(1):\n",
    "        N = numpoints[i]\n",
    "        x = np.linspace(a,b, N)\n",
    "        yhat = y(x) + sigma * np.random.normal(loc = 0, scale = 1, size = N)\n",
    "        start_time = time.time()\n",
    "        res_GCV = lambda_fun.min_GCV(N = N, x = x, p = 2, yhat = yhat, method = 'bounded', usage = 'min', bounds = (1,12))\n",
    "        GCV_N[i, j] = (time.time() - start_time)\n",
    "        print(\"model: GCV, N: %d, degree: %d, time: %s seconds\" % (N, p, time.time() - start_time))"
   ]
  },
  {
   "cell_type": "code",
   "execution_count": 68,
   "metadata": {},
   "outputs": [
    {
     "data": {
      "image/png": "[encoded data removed]",
      "text/plain": [
       "<Figure size 432x288 with 1 Axes>"
      ]
     },
     "metadata": {
      "needs_background": "light"
     },
     "output_type": "display_data"
    },
    {
     "data": {
      "image/png": "[encoded data removed]",
      "text/plain": [
       "<Figure size 432x288 with 1 Axes>"
      ]
     },
     "metadata": {
      "needs_background": "light"
     },
     "output_type": "display_data"
    }
   ],
   "source": [
    "def plot_deg(y, xlabel, ylabel, savename):\n",
    "    fig = plt.figure()\n",
    "    ax = fig.add_axes([0, 0,  1, 1])\n",
    "    c = 'lavender'\n",
    "    d = 'mediumpurple'\n",
    "    lw = 1.8\n",
    "    bp = ax.boxplot(y, positions=[1,2,3,4,5], patch_artist=True,\n",
    "            boxprops=dict(facecolor=c, color=d, linewidth = lw),\n",
    "            capprops=dict(color=d, linewidth = lw),\n",
    "            whiskerprops=dict(color=d , linewidth = lw),\n",
    "            flierprops=dict(color=d, markeredgecolor=d, marker='o', markerfacecolor=d, markersize=8,linewidth = lw),\n",
    "            medianprops=dict(color=d),\n",
    "            )\n",
    "    plt.xlabel(xlabel, fontsize = 22)\n",
    "    plt.ylabel(ylabel, fontsize = 22)\n",
    "    \n",
    "    plt.yticks(fontsize = 22)\n",
    "    plt.xticks(fontsize = 22)\n",
    "    plt.tick_params(left=True, bottom = True, right = False, top = False)\n",
    "    ax = plt.gca()\n",
    "    ax.set_facecolor('whitesmoke')\n",
    "    for spine in plt.gca().spines.values():\n",
    "        spine.set_visible(False)\n",
    "    plt.show\n",
    "    \n",
    "\n",
    "    my_path = os.getcwd()\n",
    "    fig.savefig(my_path + savename, bbox_inches='tight')\n",
    "    \n",
    "  \n",
    "plot_deg(GML_deg, xlabel = 's', ylabel = 'time [s]',savename = \"/Plots/GML_deg.pdf\")\n",
    "\n",
    "plot_deg(GCV_deg, xlabel = 's', ylabel = 'time [s]', savename = \"/Plots/GCV_deg.pdf\")"
   ]
  },
  {
   "cell_type": "code",
   "execution_count": 5,
   "metadata": {},
   "outputs": [
    {
     "data": {
      "image/png": "[encoded data removed]",
      "text/plain": [
       "<Figure size 432x288 with 1 Axes>"
      ]
     },
     "metadata": {
      "needs_background": "light"
     },
     "output_type": "display_data"
    },
    {
     "data": {
      "image/png": "[encoded data removed]",
      "text/plain": [
       "<Figure size 432x288 with 1 Axes>"
      ]
     },
     "metadata": {
      "needs_background": "light"
     },
     "output_type": "display_data"
    }
   ],
   "source": [
    "def plot_N(x,y, col, xlabel, ylabel, savename):\n",
    "    fig = plt.figure()\n",
    "    x1 = np.linspace(np.min(x), np.max(x), 100)\n",
    "    y0mean = np.mean(y[0,:])\n",
    "    y1mean = np.mean(y[1,:])\n",
    "    plt.loglog(x1,y0mean/x[0]*x1, '-' , linewidth = 2.5, color= 'hotpink', label = '$\\mathcal{O}(N)$')\n",
    "    plt.loglog(x1, y0mean/(x[0]**2)*x1**2 , '-' , linewidth = 2.5, color= 'mediumpurple', label = '$\\mathcal{O}(N^2)$')\n",
    "    plt.loglog(x,y, '.' ,color = col, markersize = 10, label = 'runtimes')\n",
    "    plt.legend(loc = 'best', fontsize = 15)\n",
    "\n",
    "    ax = plt.gca()\n",
    "    ax.set_facecolor('whitesmoke')\n",
    "    plt.xlabel(xlabel, fontsize = 15)\n",
    "    plt.ylabel(ylabel, fontsize = 15)\n",
    "    \n",
    "    plt.yticks(fontsize = 15)\n",
    "    plt.xticks(fontsize = 15)\n",
    "    plt.tick_params(left=True, bottom = True, right = False, top = False)\n",
    "    ax = plt.gca()\n",
    "    ax.set_facecolor('whitesmoke')\n",
    "    for spine in plt.gca().spines.values():\n",
    "        spine.set_visible(False)\n",
    "    plt.show\n",
    "    \n",
    "    my_path = os.getcwd()\n",
    "    fig.savefig(my_path + savename, bbox_inches='tight')\n",
    "    \n",
    "    \n",
    "\n",
    "\n",
    "plot_N(numpoints, GML_N, 'navy', xlabel = 'N', ylabel = 'time [s]', savename = \"/Plots/GML_N.pdf\")\n",
    "\n",
    "plot_N(numpoints, GCV_N, 'navy', xlabel = 'N', ylabel = 'time [s]', savename = \"/Plots/GCV_N.pdf\")"
   ]
  },
  {
   "cell_type": "code",
   "execution_count": 3,
   "metadata": {},
   "outputs": [
    {
     "data": {
      "text/plain": [
       "array([[2.85921097e-01],\n",
       "       [1.08572483e+00],\n",
       "       [3.98954487e+00],\n",
       "       [1.34337430e+01],\n",
       "       [4.94160118e+01],\n",
       "       [1.82541174e+02],\n",
       "       [5.83219553e+02],\n",
       "       [2.36022413e+03]])"
      ]
     },
     "execution_count": 3,
     "metadata": {},
     "output_type": "execute_result"
    }
   ],
   "source": []
  },
  {
   "cell_type": "code",
   "execution_count": 4,
   "metadata": {},
   "outputs": [
    {
     "data": {
      "text/plain": [
       "array([[0.04736805],\n",
       "       [0.08217978],\n",
       "       [0.17164493],\n",
       "       [0.27098274],\n",
       "       [0.569098  ],\n",
       "       [1.17542315],\n",
       "       [2.49221206],\n",
       "       [4.32925797]])"
      ]
     },
     "execution_count": 4,
     "metadata": {},
     "output_type": "execute_result"
    }
   ],
   "source": []
  },
  {
   "cell_type": "code",
   "execution_count": 69,
   "metadata": {},
   "outputs": [
    {
     "data": {
      "text/plain": [
       "array([[0.04736805],\n",
       "       [0.08217978],\n",
       "       [0.17164493],\n",
       "       [0.27098274],\n",
       "       [0.569098  ],\n",
       "       [1.17542315],\n",
       "       [2.49221206],\n",
       "       [4.32925797]])"
      ]
     },
     "execution_count": 69,
     "metadata": {},
     "output_type": "execute_result"
    }
   ],
   "source": [
    "GML_N"
   ]
  },
  {
   "cell_type": "code",
   "execution_count": 70,
   "metadata": {},
   "outputs": [
    {
     "data": {
      "text/plain": [
       "array([[2.85921097e-01],\n",
       "       [1.08572483e+00],\n",
       "       [3.98954487e+00],\n",
       "       [1.34337430e+01],\n",
       "       [4.94160118e+01],\n",
       "       [1.82541174e+02],\n",
       "       [5.83219553e+02],\n",
       "       [2.36022413e+03]])"
      ]
     },
     "execution_count": 70,
     "metadata": {},
     "output_type": "execute_result"
    }
   ],
   "source": [
    "GCV_N"
   ]
  },
  {
   "cell_type": "code",
   "execution_count": null,
   "metadata": {},
   "outputs": [],
   "source": []
  }
 ],
 "metadata": {
  "@webio": {
   "lastCommId": null,
   "lastKernelId": null
  },
  "kernelspec": {
   "display_name": "Python 3",
   "language": "python",
   "name": "python3"
  },
  "language_info": {
   "codemirror_mode": {
    "name": "ipython",
    "version": 3
   },
   "file_extension": ".py",
   "mimetype": "text/x-python",
   "name": "python",
   "nbconvert_exporter": "python",
   "pygments_lexer": "ipython3",
   "version": "3.8.3"
  }
 },
 "nbformat": 4,
 "nbformat_minor": 4
}
