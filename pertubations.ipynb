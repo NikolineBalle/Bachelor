{
 "cells": [
  {
   "cell_type": "code",
   "execution_count": 46,
   "id": "expected-experience",
   "metadata": {},
   "outputs": [],
   "source": [
    "import numpy as np\n",
    "import pandas as pd\n",
    "from numpy.linalg import solve\n",
    "import matplotlib.pyplot as plt\n",
    "from scipy.linalg import qr\n",
    "from scipy import optimize\n",
    "from scipy.special import erfinv\n",
    "from scipy.optimize import minimize_scalar\n",
    "import egrss \n",
    "import time\n",
    "from scipy import integrate\n",
    "import lambda_fun\n",
    "\n",
    "# Generate data with noise level sigma\n",
    "N = 90\n",
    "sigma = 0.1\n",
    "a, b = -0.2, 0.43\n",
    "p = 2  # degree of splines\n",
    "xi = (b-a) ** (2 * p - 1)\n",
    "x = np.linspace(a,b,N)\n",
    "xextra = np.linspace(0.43,0.5,10)\n",
    "xall = np.linspace(-0.2,0.5,100) \n",
    "\n",
    "np.random.seed(1)\n",
    "yhat = lambda_fun.y(x) + sigma * np.random.normal(loc = 0, scale = 1, size = x.shape)\n",
    "yall = lambda_fun.y(xall) + sigma * np.random.normal(loc = 0, scale = 1, size = xall.shape)\n",
    "\n",
    "def pertubation(datapoint, a, b, p, yhat, x, xall, n_fit, quantile):\n",
    "    \"\"\"\n",
    "    Making pertubations and fit\n",
    "    \"\"\"\n",
    "    if datapoint == 'left':\n",
    "        datapoint = 0\n",
    "    elif datapoint == 'center':\n",
    "        datapoint = int(len(yhat)/2)\n",
    "    elif datapoint == 'right':\n",
    "        datapoint = len(yhat)-1\n",
    "    allfit = pd.DataFrame(index=range(len(xall)),columns=range(n_fit+1))\n",
    "    val = yhat[datapoint]\n",
    "    Ut, Vt = egrss.generators((x-a)/(b-a),p)\n",
    "\n",
    "    for i in range(n_fit):\n",
    "        yhat[datapoint] += sigma* np.random.normal(loc = 0, scale = 1, size = 1)\n",
    "\n",
    "        # Finding the optimal lambda - GML\n",
    "        res_GML = lambda_fun.min_GCV(N, a, b, p, yhat, 'bounded', 'min',  (1,13))\n",
    "        lam = 1/np.power(10,8)\n",
    "        Ut, Vt = egrss.generators((x-a)/(b-a),p)\n",
    "        Utt, Vtt = egrss.generators((xall-a)/(b-a),p)\n",
    "        Wt, z  = egrss.potrf(Ut,Vt,N*lam/xi)\n",
    "        c,d    = lambda_fun.smoothing_spline_reg(Ut,Wt,z,yhat)\n",
    "        cextra = np.zeros(len(xextra))\n",
    "        ct =  np.concatenate((c,cextra),axis=0)\n",
    "        yt = egrss.symv(Utt,Vtt,ct)+Utt.T@d\n",
    "        yt_df = pd.DataFrame(yt)\n",
    "        allfit[i] = yt_df\n",
    "        yhat[datapoint] = val\n",
    "    \n",
    "    max_val = allfit.quantile(q=1-(1-quantile)/2, axis=1, numeric_only=True)\n",
    "    med_val = allfit.quantile(q=0.5, axis=1, numeric_only=True)\n",
    "    min_val = allfit.quantile(q=(1-quantile)/2, axis=1, numeric_only=True)\n",
    "\n",
    "    return min_val, med_val, max_val, allfit, datapoint\n"
   ]
  },
  {
   "cell_type": "code",
   "execution_count": 48,
   "id": "acoustic-fundamentals",
   "metadata": {},
   "outputs": [
    {
     "data": {
      "image/png": "[encoded data removed]",
      "text/plain": [
       "<Figure size 432x288 with 1 Axes>"
      ]
     },
     "metadata": {},
     "output_type": "display_data"
    }
   ],
   "source": [
    "min_val, med_val,max_val, allfit, datapoint = pertubation(datapoint='right', a=a, b=b, p=p, yhat=yhat, x=x, xall=xall, n_fit=200, quantile=0.95)\n",
    "\n",
    "\n",
    "# Plotting the model generated with lambda_GML\n",
    "fig2 = plt.figure()\n",
    "plt.plot(x,lambda_fun.y(x),'--',color = 'navy', linewidth=1.5)\n",
    "plt.plot(xall,yall,'o',markersize = 4.5, color = 'cornflowerblue')\n",
    "plt.plot(xall,max_val,color = 'tomato', linewidth=1.2)\n",
    "plt.plot(xall,med_val,color = 'tomato', linewidth=1.2)\n",
    "plt.plot(x[datapoint], yhat[datapoint], 'o',markersize=4.5, color='tomato')\n",
    "plt.fill_between(xall, min_val, max_val, color='grey', alpha=0.5)\n",
    "plt.plot(xall,min_val,color = 'tomato', linewidth=1.2)\n",
    "plt.xticks([])\n",
    "plt.yticks([])\n",
    "plt.xlim([a-0.07,b+0.07])\n",
    "plt.tick_params(left=False, bottom = False, right = False, top = False)\n",
    "plt.legend(['$y(x)$', '$\\hat{y}_i$','model'], numpoints = 1, prop = {'size': 14}, loc = 0)\n",
    "ax = plt.gca()\n",
    "ax.set_facecolor('whitesmoke')\n",
    "for spine in plt.gca().spines.values():\n",
    "    spine.set_visible(False)\n",
    "# plt.title('Fit - pertubating a point', fontsize = 18)\n",
    "plt.show()\n",
    "fig2.savefig(\"pertubation_left.pdf\", bbox_inches='tight')"
   ]
  },
  {
   "cell_type": "code",
   "execution_count": null,
   "id": "secret-queen",
   "metadata": {},
   "outputs": [],
   "source": []
  }
 ],
 "metadata": {
  "@webio": {
   "lastCommId": null,
   "lastKernelId": null
  },
  "kernelspec": {
   "display_name": "Python 3",
   "language": "python",
   "name": "python3"
  },
  "language_info": {
   "codemirror_mode": {
    "name": "ipython",
    "version": 3
   },
   "file_extension": ".py",
   "mimetype": "text/x-python",
   "name": "python",
   "nbconvert_exporter": "python",
   "pygments_lexer": "ipython3",
   "version": "3.8.5"
  }
 },
 "nbformat": 4,
 "nbformat_minor": 5
}
