{
 "cells": [
  {
   "cell_type": "code",
   "execution_count": 2,
   "metadata": {},
   "outputs": [
    {
     "ename": "ModuleNotFoundError",
     "evalue": "No module named 'egrss_kat'",
     "output_type": "error",
     "traceback": [
      "\u001b[0;31m---------------------------------------------------------------------------\u001b[0m",
      "\u001b[0;31mModuleNotFoundError\u001b[0m                       Traceback (most recent call last)",
      "\u001b[0;32m<ipython-input-2-a25a03c39b34>\u001b[0m in \u001b[0;36m<module>\u001b[0;34m\u001b[0m\n\u001b[1;32m      6\u001b[0m \u001b[0;32mfrom\u001b[0m \u001b[0mscipy\u001b[0m\u001b[0;34m.\u001b[0m\u001b[0moptimize\u001b[0m \u001b[0;32mimport\u001b[0m \u001b[0mminimize_scalar\u001b[0m\u001b[0;34m\u001b[0m\u001b[0;34m\u001b[0m\u001b[0m\n\u001b[1;32m      7\u001b[0m \u001b[0;32mimport\u001b[0m \u001b[0megrss\u001b[0m\u001b[0;34m\u001b[0m\u001b[0;34m\u001b[0m\u001b[0m\n\u001b[0;32m----> 8\u001b[0;31m \u001b[0;32mimport\u001b[0m \u001b[0megrss_kat\u001b[0m\u001b[0;34m\u001b[0m\u001b[0;34m\u001b[0m\u001b[0m\n\u001b[0m\u001b[1;32m      9\u001b[0m \u001b[0;32mimport\u001b[0m \u001b[0mlambda_fun\u001b[0m\u001b[0;34m\u001b[0m\u001b[0;34m\u001b[0m\u001b[0m\n\u001b[1;32m     10\u001b[0m \u001b[0;32mimport\u001b[0m \u001b[0mos\u001b[0m\u001b[0;34m\u001b[0m\u001b[0;34m\u001b[0m\u001b[0m\n",
      "\u001b[0;31mModuleNotFoundError\u001b[0m: No module named 'egrss_kat'"
     ]
    }
   ],
   "source": [
    "import numpy as np\n",
    "from numpy.linalg import solve\n",
    "import matplotlib.pyplot as plt\n",
    "from scipy.linalg import qr\n",
    "from scipy import optimize\n",
    "from scipy.optimize import minimize_scalar\n",
    "import egrss \n",
    "import egrss_kat\n",
    "import lambda_fun \n",
    "import os\n",
    "\n",
    "np.random.seed(1)\n",
    "\n",
    "# plotting 2 plots: 1) the minimizer of lambda 2) the model with the min lambda\n",
    "def plot2_w_lambda(fun, title, lab, ylab, savename1, savename2):\n",
    "    def y(x):\n",
    "        return 0.25*np.cos(4*np.pi *x) + 0.15*np.sin(12* np.pi *x) + 0.2 * x\n",
    "    a,b = -0.2, 0.5\n",
    "    N = 100\n",
    "    p = 2\n",
    "    xi = (b-a) ** (2 * p - 1) \n",
    "    x = np.linspace(a,b,N)\n",
    "    yhat = y(x) + 0.1 * np.random.normal(loc = 0, scale = 1, size = N)\n",
    "    # finding the minimizer\n",
    "    min_point = fun(N= 100, x = x, p = 2, yhat = yhat, method = 'golden',  usage = 'min')\n",
    "\n",
    "    # plotting fun(lambda)\n",
    "    fig1 = plt.figure()\n",
    "    q = np.linspace(1,12,100)\n",
    "    res = fun(N= 100, x = x, p = 2, yhat = yhat, method = 'golden', usage = 'evaluate',  bounds = 'nothing',  q = q)\n",
    "    plt.plot(-q,res, color = 'cornflowerblue')\n",
    "    plt.plot(-min_point.x, min_point.fun, 'bo', color = 'navy', label = lab %(np.format_float_scientific(1/np.power(10,min_point.x), precision = 3, exp_digits=2)))\n",
    "    ax = plt.gca()\n",
    "    ax.set_facecolor('whitesmoke')\n",
    "    plt.xlabel('1e', loc = 'left', fontsize = 12)\n",
    "    plt.ylabel(ylab, fontsize = 12)\n",
    "    plt.xlim([-12,-1])\n",
    "    plt.xticks(fontsize = 12)\n",
    "    plt.yticks([])\n",
    "    plt.title(title , fontsize = 14)\n",
    "    plt.tick_params(left=True, bottom = True, right = False, top = False)\n",
    "    for spine in plt.gca().spines.values():\n",
    "        spine.set_visible(False)\n",
    "    plt.legend( loc='upper right', numpoints=1, prop={'size': 16} )\n",
    "    plt.show\n",
    "    my_path = os.getcwd()\n",
    "    fig1.savefig(my_path + savename1, bbox_inches='tight')\n",
    "\n",
    "    # plotting the model alongside simulated datapoints and y(x)\n",
    "    fig2 = plt.figure()\n",
    "    lam = 1/np.power(10,min_point.x)\n",
    "    Ut, Vt = egrss.generators((x-a)/(b-a),p)\n",
    "    Wt, z  = egrss.potrf(Ut,Vt,N*lam/xi)\n",
    "    c,d    = lambda_fun.smoothing_spline_reg(Ut,Wt,z,yhat)\n",
    "    plt.plot(x,y(x),'--',color = 'navy', linewidth=1.5)\n",
    "    plt.plot(x,yhat,'bo',markersize = 4.5, color = 'cornflowerblue')\n",
    "    plt.plot(x,yhat-N*lam/xi*c,color = 'tomato', linewidth=1.2)\n",
    "    plt.xticks([])\n",
    "    plt.yticks([])\n",
    "    plt.xlabel('x', loc = 'right', fontsize = 12)\n",
    "    plt.ylabel('y', loc = 'top', rotation = 0, fontsize = 12)\n",
    "    plt.xlim([a,b+0.07])\n",
    "    plt.tick_params(left=True, bottom = False, right = False, top = False)\n",
    "    plt.legend(['$y(x)$', '$\\hat{y}_i$', 'model'], numpoints = 1, prop = {'size': 14}, loc = 'lower right')\n",
    "    ax = plt.gca()\n",
    "    ax.set_facecolor('whitesmoke')\n",
    "    for spine in plt.gca().spines.values():\n",
    "        spine.set_visible(False)\n",
    "    plt.title(lab %(np.format_float_scientific(1/np.power(10,min_point.x), precision = 3, exp_digits=2)), fontsize = 15)\n",
    "    plt.show()\n",
    "    fig2.savefig(my_path + savename2, bbox_inches='tight')\n",
    "\n",
    "plot2_w_lambda(fun = lambda_fun.min_GML, title = '$GML(\\lambda)$', lab = \"$\\lambda_{GML}=$%s\", ylab = 'GML', savename1 = \"/Plots/GMLlambda.pdf\", savename2 = \"/Plots/GMLmodel.pdf\")\n",
    "\n",
    "plot2_w_lambda(fun = lambda_fun.min_GCV, title = '$GCV(\\lambda)$', lab = \"$\\lambda_{GCV}=$%s\", ylab = 'GCV', savename1 = \"/Plots/GCVlambda.pdf\", savename2 = \"/Plots/GCVmodel.pdf\")\n"
   ]
  },
  {
   "cell_type": "code",
   "execution_count": 2,
   "metadata": {},
   "outputs": [
    {
     "data": {
      "text/plain": [
       "'/Users/frida/OneDrive - Danmarks Tekniske Universitet/Bachelor/Bachelor'"
      ]
     },
     "execution_count": 2,
     "metadata": {},
     "output_type": "execute_result"
    }
   ],
   "source": [
    "import os\n",
    "os.getcwd() \n"
   ]
  },
  {
   "cell_type": "code",
   "execution_count": 3,
   "metadata": {},
   "outputs": [
    {
     "data": {
      "text/plain": [
       "<function list.append(object, /)>"
      ]
     },
     "execution_count": 3,
     "metadata": {},
     "output_type": "execute_result"
    }
   ],
   "source": [
    "import sys\n",
    "sys.path.append"
   ]
  },
  {
   "cell_type": "code",
   "execution_count": 10,
   "metadata": {},
   "outputs": [],
   "source": [
    "import os\n",
    "import sys\n",
    "module_path = os.path.abspath(os.getcwd() + '\\\\..')\n",
    "if module_path not in sys.path:\n",
    "    sys.path.append(module_path)"
   ]
  },
  {
   "cell_type": "code",
   "execution_count": 4,
   "metadata": {},
   "outputs": [
    {
     "data": {
      "text/plain": [
       "array([-1.54770848, -2.28428112, -0.93689424, -0.03611273,  0.18904903,\n",
       "       -0.80314656, -0.63061471, -1.74026658, -0.23470062,  2.23008306,\n",
       "        0.05393572, -1.73093823, -2.29637156, -0.87565808, -0.13955948,\n",
       "        0.81341789, -1.70662105,  0.64930948, -0.6218073 ,  0.86271245,\n",
       "        1.8330588 ,  0.35477951, -0.27192251,  0.49990931, -0.84235873,\n",
       "        0.42491787,  0.49180752,  0.42245087, -0.27584351, -0.77086486,\n",
       "        0.40164606, -0.54432699,  0.09094688,  0.26399534,  1.79560074,\n",
       "       -0.50780074, -1.8123148 , -0.11926079,  1.29690568, -0.18828777,\n",
       "        0.05177957, -0.23060516,  0.85588167,  1.57290519, -1.14066698,\n",
       "       -0.88823099,  0.26616194,  0.00512676,  0.27804306, -1.121686  ,\n",
       "        0.50452929, -0.2965563 ,  0.27641782, -0.5825862 ,  2.29930841,\n",
       "       -1.37245734, -1.7943481 , -0.08905273, -1.79759061, -1.08014052,\n",
       "       -1.19280965,  1.7004645 ,  1.00213486,  0.04855482,  1.30418434,\n",
       "       -0.60097951,  0.59361421,  2.32660409, -0.2543505 ,  0.08956606,\n",
       "       -0.44117147, -0.41494301, -0.14511505, -1.13226991,  1.0142646 ,\n",
       "       -1.35673495, -0.11171369,  0.67026144, -0.29039892,  1.52955589,\n",
       "        0.06836865, -1.26403605, -1.59965853,  2.25171478,  0.18096588,\n",
       "       -1.26949228,  0.02092673, -1.26283543, -0.17855935,  0.29782996,\n",
       "       -0.16453227, -0.58792129, -0.36444702,  2.1138749 ,  0.91878551,\n",
       "        1.85326756, -0.43948472, -0.42633997,  0.40571761, -2.18220739])"
      ]
     },
     "execution_count": 4,
     "metadata": {},
     "output_type": "execute_result"
    }
   ],
   "source": []
  },
  {
   "cell_type": "code",
   "execution_count": null,
   "metadata": {},
   "outputs": [],
   "source": []
  }
 ],
 "metadata": {
  "@webio": {
   "lastCommId": null,
   "lastKernelId": null
  },
  "kernelspec": {
   "display_name": "Python 3",
   "language": "python",
   "name": "python3"
  },
  "language_info": {
   "codemirror_mode": {
    "name": "ipython",
    "version": 3
   },
   "file_extension": ".py",
   "mimetype": "text/x-python",
   "name": "python",
   "nbconvert_exporter": "python",
   "pygments_lexer": "ipython3",
   "version": "3.8.3"
  }
 },
 "nbformat": 4,
 "nbformat_minor": 4
}
