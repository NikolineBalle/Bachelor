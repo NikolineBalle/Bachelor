{
 "cells": [
  {
   "cell_type": "code",
   "execution_count": 19,
   "id": "optimum-witness",
   "metadata": {},
   "outputs": [
    {
     "ename": "AttributeError",
     "evalue": "module 'scipy' has no attribute 'integrate'",
     "output_type": "error",
     "traceback": [
      "\u001b[0;31m---------------------------------------------------------------------------\u001b[0m",
      "\u001b[0;31mAttributeError\u001b[0m                            Traceback (most recent call last)",
      "\u001b[0;32m<ipython-input-19-4d95e74621a7>\u001b[0m in \u001b[0;36m<module>\u001b[0;34m\u001b[0m\n\u001b[1;32m     46\u001b[0m     \u001b[0;32mreturn\u001b[0m \u001b[0mvalue\u001b[0m\u001b[0;34m\u001b[0m\u001b[0;34m\u001b[0m\u001b[0m\n\u001b[1;32m     47\u001b[0m \u001b[0;34m\u001b[0m\u001b[0m\n\u001b[0;32m---> 48\u001b[0;31m \u001b[0mvalue\u001b[0m \u001b[0;34m=\u001b[0m \u001b[0mextrapolate\u001b[0m\u001b[0;34m(\u001b[0m\u001b[0;36m0.6\u001b[0m\u001b[0;34m,\u001b[0m \u001b[0myhat\u001b[0m\u001b[0;34m,\u001b[0m \u001b[0ma\u001b[0m\u001b[0;34m,\u001b[0m \u001b[0mb\u001b[0m\u001b[0;34m,\u001b[0m \u001b[0mc\u001b[0m\u001b[0;34m,\u001b[0m \u001b[0md\u001b[0m\u001b[0;34m,\u001b[0m \u001b[0mp\u001b[0m\u001b[0;34m,\u001b[0m \u001b[0mN\u001b[0m\u001b[0;34m)\u001b[0m\u001b[0;34m\u001b[0m\u001b[0;34m\u001b[0m\u001b[0m\n\u001b[0m",
      "\u001b[0;32m<ipython-input-19-4d95e74621a7>\u001b[0m in \u001b[0;36mextrapolate\u001b[0;34m(x, yhat, a, b, c, d, p, n)\u001b[0m\n\u001b[1;32m     41\u001b[0m \u001b[0;34m\u001b[0m\u001b[0m\n\u001b[1;32m     42\u001b[0m     \u001b[0;32mfor\u001b[0m \u001b[0mi\u001b[0m \u001b[0;32min\u001b[0m \u001b[0mrange\u001b[0m\u001b[0;34m(\u001b[0m\u001b[0mn\u001b[0m\u001b[0;34m)\u001b[0m\u001b[0;34m:\u001b[0m\u001b[0;34m\u001b[0m\u001b[0;34m\u001b[0m\u001b[0m\n\u001b[0;32m---> 43\u001b[0;31m         value += d[i]*sp.integrate.quad((max(0,yhat[n]-u)**(p-1)/np.math.factorial(p-1))*\n\u001b[0m\u001b[1;32m     44\u001b[0m                                      (max(0,x-u)**(p-1)/np.math.factorial(p-1)), a, b)\n\u001b[1;32m     45\u001b[0m \u001b[0;34m\u001b[0m\u001b[0m\n",
      "\u001b[0;31mAttributeError\u001b[0m: module 'scipy' has no attribute 'integrate'"
     ]
    }
   ],
   "source": [
    "import numpy as np\n",
    "import pandas as pd\n",
    "from numpy.linalg import solve\n",
    "import matplotlib.pyplot as plt\n",
    "from scipy.linalg import qr\n",
    "from scipy import optimize\n",
    "import scipy as sp\n",
    "from scipy.special import erfinv\n",
    "from scipy.optimize import minimize_scalar\n",
    "import egrss \n",
    "import lambda_fun\n",
    "\n",
    "N = 100\n",
    "sigma = 0.1\n",
    "a, b = -0.2, 0.5\n",
    "p = 2  # degree of splines\n",
    "xi = (b-a) ** (2 * p - 1)\n",
    "x = np.linspace(a,b,N)\n",
    "Ut, Vt = egrss.generators((x-a)/(b-a),p)\n",
    "\n",
    "def y(x):\n",
    "    return 0.25*np.cos(4*np.pi *x) + 0.15*np.sin(12* np.pi *x) + 0.2 * x\n",
    "\n",
    "np.random.seed(1)\n",
    "yhat = y(x) + sigma * np.random.normal(loc = 0, scale = 1, size = x.shape)\n",
    "\n",
    "# Finding the optimal lambda - GML\n",
    "res_GML = lambda_fun.min_GCV(N, a, b, p, yhat, 'bounded', 'min',  (1,13))\n",
    "lam = 1/np.power(10,res_GML.x) \n",
    "Wt, z  = egrss.potrf(Ut,Vt,N*lam/xi)\n",
    "c,d    = lambda_fun.smoothing_spline_reg(Ut,Wt,z,yhat)\n",
    "\n",
    "def phi(x, k, a):\n",
    "    value = ((x-a)**(k-1))/np.math.factorial(k-1)\n",
    "    return value\n",
    "\n",
    "def extrapolate(x, yhat, a, b, c, d, p, n):\n",
    "    value = 0\n",
    "    for i in range(p):\n",
    "            value += d[i]*phi(x, i+1, a)\n",
    "    \n",
    "    for i in range(n):\n",
    "        value += d[i]*sp.integrate.quad((max(0,yhat[n]-u)**(p-1)/np.math.factorial(p-1))*\n",
    "                                     (max(0,x-u)**(p-1)/np.math.factorial(p-1)), a, b)\n",
    "    \n",
    "    return value\n",
    "\n",
    "value = extrapolate(0.6, yhat, a, b, c, d, p, N)"
   ]
  },
  {
   "cell_type": "code",
   "execution_count": null,
   "id": "christian-assembly",
   "metadata": {},
   "outputs": [],
   "source": []
  }
 ],
 "metadata": {
  "kernelspec": {
   "display_name": "Python 3",
   "language": "python",
   "name": "python3"
  },
  "language_info": {
   "codemirror_mode": {
    "name": "ipython",
    "version": 3
   },
   "file_extension": ".py",
   "mimetype": "text/x-python",
   "name": "python",
   "nbconvert_exporter": "python",
   "pygments_lexer": "ipython3",
   "version": "3.8.5"
  }
 },
 "nbformat": 4,
 "nbformat_minor": 5
}
