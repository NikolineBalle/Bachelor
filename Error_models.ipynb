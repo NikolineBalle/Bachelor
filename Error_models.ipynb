{
 "cells": [
  {
   "cell_type": "code",
   "execution_count": 19,
   "id": "2c4c359f",
   "metadata": {},
   "outputs": [],
   "source": [
    "import numpy as np\n",
    "from numpy.linalg import solve\n",
    "import matplotlib.pyplot as plt\n",
    "from scipy.linalg import qr\n",
    "from scipy import optimize\n",
    "from scipy.optimize import minimize_scalar\n",
    "import egrss \n",
    "import lambda_fun \n",
    "import os\n",
    "\n",
    "def error(fun):\n",
    "    def y(x):\n",
    "        return 0.25*np.cos(4*np.pi *x) + 0.15*np.sin(12* np.pi *x) + 0.2 * x\n",
    "    a,b = -0.2, 0.5\n",
    "    N = 100\n",
    "    p = 2\n",
    "    xi = (b-a) ** (2 * p - 1) \n",
    "    x = np.linspace(a,b,N)\n",
    "    yhat = y(x) + 0.1 * np.random.normal(loc = 0, scale = 1, size = N)\n",
    "    # finding the minimizer\n",
    "    min_point = fun(N= 100, x = x, p = 2, yhat = yhat, method = 'golden',  usage = 'min')\n",
    "\n",
    "    lam = 1/np.power(10,min_point.x)\n",
    "    Ut, Vt = egrss.generators((x-a)/(b-a),p)\n",
    "    Wt, z  = egrss.potrf(Ut,Vt,N*lam/xi)\n",
    "    c,d    = lambda_fun.smoothing_spline_reg(Ut,Wt,z,yhat)\n",
    "\n",
    "    error = (y(x)-(yhat-N*lam/xi*c))**2\n",
    "    error_sum = np.sqrt(sum(error))\n",
    "    \n",
    "    \n",
    "    return error_sum, lam\n",
    "\n",
    "errors = np.zeros([100,2])\n",
    "lamb = np.zeros([100,2])\n",
    "\n",
    "for i in range(100):\n",
    "    errors[i,0] = error(lambda_fun.min_GML)[0]\n",
    "    errors[i,1] = error(lambda_fun.min_GCV)[0]\n",
    "    lamb[i,0] = error(lambda_fun.min_GML)[1]\n",
    "    lamb[i,1] = error(lambda_fun.min_GCV)[1]"
   ]
  },
  {
   "cell_type": "code",
   "execution_count": 20,
   "id": "d73eb14f",
   "metadata": {},
   "outputs": [
    {
     "data": {
      "image/png": "[encoded data removed]",
      "text/plain": [
       "<Figure size 432x288 with 1 Axes>"
      ]
     },
     "metadata": {
      "needs_background": "light"
     },
     "output_type": "display_data"
    }
   ],
   "source": [
    "def plot_deg(y, xlabel, ylabel, savename):\n",
    "    fig = plt.figure()\n",
    "    ax = fig.add_axes([0, 0,  1, 1])\n",
    "    c = 'lavender'\n",
    "    d = 'mediumpurple'\n",
    "    lw = 1.8\n",
    "    bp = ax.boxplot(y, positions=[1,2], patch_artist=True,\n",
    "            boxprops=dict(facecolor=c, color=d, linewidth = lw),\n",
    "            capprops=dict(color=d, linewidth = lw),\n",
    "            whiskerprops=dict(color=d , linewidth = lw),\n",
    "            flierprops=dict(color=d, markeredgecolor=d, marker='o', markerfacecolor=d, markersize=8,linewidth = lw),\n",
    "            medianprops=dict(color=d),\n",
    "            )\n",
    "    plt.xlabel(xlabel, fontsize = 22)\n",
    "    plt.ylabel(ylabel, fontsize = 22)\n",
    "    \n",
    "    plt.yticks(fontsize = 22)\n",
    "    plt.xticks([1,2], ['GML', 'GCV'], fontsize = 22)\n",
    "    plt.tick_params(left=True, bottom = True, right = False, top = False)\n",
    "    ax = plt.gca()\n",
    "    ax.set_facecolor('whitesmoke')\n",
    "    for spine in plt.gca().spines.values():\n",
    "        spine.set_visible(False)\n",
    "    plt.show\n",
    "    \n",
    "\n",
    "    my_path = os.getcwd()\n",
    "    fig.savefig(my_path + savename, bbox_inches='tight')\n",
    "    \n",
    "  \n",
    "plot_deg(errors, xlabel = 'Model', ylabel = 'Error',savename = \"/Plots/errors.pdf\")\n"
   ]
  },
  {
   "cell_type": "code",
   "execution_count": 34,
   "id": "41fa0780",
   "metadata": {},
   "outputs": [
    {
     "data": {
      "image/png": "[encoded data removed]",
      "text/plain": [
       "<Figure size 432x288 with 1 Axes>"
      ]
     },
     "metadata": {
      "needs_background": "light"
     },
     "output_type": "display_data"
    }
   ],
   "source": [
    "fig = plt.figure()\n",
    "plt.hist(lamb[0,:], color = 'cornflowerblue')\n",
    "plt.ticklabel_format(axis = 'x', style = 'sci', scilimits=(0,0))\n",
    "plt.title('$\\\\lambda$ - GML', fontsize = 14)\n",
    "plt.xticks(fontsize = 14)\n",
    "plt.yticks(fontsize = 14)\n",
    "ax = plt.gca()\n",
    "ax.set_facecolor('whitesmoke')\n",
    "for spine in plt.gca().spines.values():\n",
    "    spine.set_visible(False)\n",
    "my_path = os.getcwd()\n",
    "fig.savefig(my_path + '/Plots/hist_lambdaGML.pdf', bbox_inches='tight')"
   ]
  },
  {
   "cell_type": "code",
   "execution_count": 37,
   "id": "28353145",
   "metadata": {},
   "outputs": [
    {
     "data": {
      "image/png": "[encoded data removed]",
      "text/plain": [
       "<Figure size 432x288 with 1 Axes>"
      ]
     },
     "metadata": {
      "needs_background": "light"
     },
     "output_type": "display_data"
    }
   ],
   "source": [
    "fig = plt.figure()\n",
    "plt.hist(lamb[1,:], color = 'cornflowerblue')\n",
    "plt.ticklabel_format(axis = 'x', style = 'sci', scilimits=(0,0))\n",
    "plt.title('$\\\\lambda$ - GCV', fontsize = 14)\n",
    "plt.xticks(fontsize = 14)\n",
    "plt.yticks(fontsize = 14)\n",
    "ax = plt.gca()\n",
    "ax.set_facecolor('whitesmoke')\n",
    "for spine in plt.gca().spines.values():\n",
    "    spine.set_visible(False)\n",
    "my_path = os.getcwd()\n",
    "fig.savefig(my_path + '/Plots/hist_lambdaGCV.pdf', bbox_inches='tight')"
   ]
  },
  {
   "cell_type": "code",
   "execution_count": null,
   "id": "761c9acc",
   "metadata": {},
   "outputs": [],
   "source": []
  }
 ],
 "metadata": {
  "kernelspec": {
   "display_name": "Python 3",
   "language": "python",
   "name": "python3"
  },
  "language_info": {
   "codemirror_mode": {
    "name": "ipython",
    "version": 3
   },
   "file_extension": ".py",
   "mimetype": "text/x-python",
   "name": "python",
   "nbconvert_exporter": "python",
   "pygments_lexer": "ipython3",
   "version": "3.8.5"
  }
 },
 "nbformat": 4,
 "nbformat_minor": 5
}
