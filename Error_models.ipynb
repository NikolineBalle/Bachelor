{
 "cells": [
  {
   "cell_type": "code",
   "execution_count": 33,
   "metadata": {},
   "outputs": [],
   "source": [
    "import numpy as np\n",
    "from numpy.linalg import solve\n",
    "import matplotlib.pyplot as plt\n",
    "from scipy.linalg import qr\n",
    "from scipy import optimize\n",
    "from scipy.optimize import minimize_scalar\n",
    "import egrss \n",
    "import lambda_fun \n",
    "import os\n",
    "\n",
    "def error(fun):\n",
    "    def y(x):\n",
    "        return 0.25*np.cos(4*np.pi *x) + 0.15*np.sin(12* np.pi *x) + 0.2 * x\n",
    "    a,b = -0.2, 0.5\n",
    "    N = 100\n",
    "    p = 2\n",
    "    xi = (b-a) ** (2 * p - 1) \n",
    "    x = np.linspace(a,b,N)\n",
    "    yhat = y(x) + 0.1 * np.random.normal(loc = 0, scale = 1, size = N)\n",
    "    # finding the minimizer\n",
    "    min_point = fun(N= 100, x = x, p = 2, yhat = yhat, method = 'golden',  usage = 'min')\n",
    "\n",
    "    lam = 1/np.power(10,min_point.x)\n",
    "    Ut, Vt = egrss.generators((x-a)/(b-a),p)\n",
    "    Wt, z  = egrss.potrf(Ut,Vt,N*lam/xi)\n",
    "    c,d    = lambda_fun.smoothing_spline_reg(Ut,Wt,z,yhat)\n",
    "\n",
    "    error = (y(x)-(yhat-N*lam/xi*c))**2\n",
    "    error_sum = np.sqrt(sum(error))\n",
    "    \n",
    "    \n",
    "    return error_sum, lam\n",
    "\n",
    "errors = np.zeros([100,3])\n",
    "lamb = np.zeros([100,2])\n",
    "\n",
    "for i in range(100):\n",
    "    errors[i,0] = error(lambda_fun.min_GML)[0]\n",
    "    errors[i,1] = error(lambda_fun.min_GCV)[0]\n",
    "    lamb[i,0] = error(lambda_fun.min_GML)[1]\n",
    "    lamb[i,1] = error(lambda_fun.min_GCV)[1]"
   ]
  },
  {
   "cell_type": "code",
   "execution_count": 45,
   "metadata": {},
   "outputs": [],
   "source": [
    "y_save = np.load('Data/y_save.npy')\n",
    "a,b = -0.2, 0.5\n",
    "n = 100\n",
    "x = np.linspace(a,b,n)\n",
    "def y(x):\n",
    "    return 0.25*np.cos(4*np.pi *x) + 0.15*np.sin(12* np.pi *x) + 0.2 * x\n",
    "\n",
    "for i in range(100):\n",
    "    errors[i,2] = np.sum((y_save[i,:]-y(x))**2)\n"
   ]
  },
  {
   "cell_type": "code",
   "execution_count": 46,
   "metadata": {},
   "outputs": [
    {
     "data": {
      "image/png": "[encoded data removed]",
      "text/plain": [
       "<Figure size 432x288 with 1 Axes>"
      ]
     },
     "metadata": {
      "needs_background": "light"
     },
     "output_type": "display_data"
    }
   ],
   "source": [
    "def plot_deg(y, xlabel, ylabel, savename):\n",
    "    fig = plt.figure()\n",
    "    ax = fig.add_axes([0, 0, 1, 1])\n",
    "    c = 'lavender'\n",
    "    d = 'mediumpurple'\n",
    "    lw = 1.8\n",
    "    bp = ax.boxplot(y, positions=[1,2,3], patch_artist=True,\n",
    "            boxprops=dict(facecolor=c, color=d, linewidth = lw),\n",
    "            capprops=dict(color=d, linewidth = lw),\n",
    "            whiskerprops=dict(color=d , linewidth = lw),\n",
    "            flierprops=dict(color=d, markeredgecolor=d, marker='o', markerfacecolor=d, markersize=8,linewidth = lw),\n",
    "            medianprops=dict(color=d),\n",
    "            )\n",
    "    plt.xlabel(xlabel, fontsize = 22)\n",
    "    plt.ylabel(ylabel, fontsize = 22)\n",
    "    \n",
    "    plt.yticks(fontsize = 22)\n",
    "    plt.xticks([1,2, 3], ['GML', 'GCV', 'Sampling'], fontsize = 22)\n",
    "    plt.tick_params(left=True, bottom = True, right = False, top = False)\n",
    "    ax = plt.gca()\n",
    "    ax.set_facecolor('whitesmoke')\n",
    "    for spine in plt.gca().spines.values():\n",
    "        spine.set_visible(False)\n",
    "    plt.show\n",
    "    \n",
    "\n",
    "    my_path = os.getcwd()\n",
    "    fig.savefig(my_path + savename, bbox_inches='tight')\n",
    "    \n",
    "  \n",
    "plot_deg(errors, xlabel = 'Model', ylabel = 'error',savename = \"/Plots/errors.pdf\")\n"
   ]
  },
  {
   "cell_type": "code",
   "execution_count": 7,
   "metadata": {},
   "outputs": [
    {
     "data": {
      "image/png": "[encoded data removed]",
      "text/plain": [
       "<Figure size 432x288 with 1 Axes>"
      ]
     },
     "metadata": {
      "needs_background": "light"
     },
     "output_type": "display_data"
    }
   ],
   "source": [
    "fig = plt.figure()\n",
    "plt.hist(lamb[:,0], color = 'cornflowerblue')\n",
    "plt.ticklabel_format(axis = 'x', style = 'sci', scilimits=(0,0))\n",
    "plt.title('$\\\\lambda_{GML}$', fontsize = 16)\n",
    "plt.xticks(fontsize = 14)\n",
    "plt.yticks(fontsize = 14)\n",
    "ax = plt.gca()\n",
    "ax.set_facecolor('whitesmoke')\n",
    "for spine in plt.gca().spines.values():\n",
    "    spine.set_visible(False)\n",
    "ax.xaxis.get_offset_text().set_fontsize(14)\n",
    "my_path = os.getcwd()\n",
    "fig.savefig(my_path + '/Plots/hist_lambdaGML.pdf', bbox_inches='tight')"
   ]
  },
  {
   "cell_type": "code",
   "execution_count": 6,
   "metadata": {},
   "outputs": [
    {
     "data": {
      "image/png": "[encoded data removed]",
      "text/plain": [
       "<Figure size 432x288 with 1 Axes>"
      ]
     },
     "metadata": {
      "needs_background": "light"
     },
     "output_type": "display_data"
    }
   ],
   "source": [
    "fig = plt.figure()\n",
    "plt.hist(lamb[:,1], color = 'cornflowerblue')\n",
    "plt.ticklabel_format(axis = 'x', style = 'sci', scilimits=(0,0))\n",
    "plt.title('$\\\\lambda_{GCV}$', fontsize = 16)\n",
    "plt.xticks(fontsize = 14)\n",
    "plt.yticks(fontsize = 14)\n",
    "ax = plt.gca()\n",
    "ax.set_facecolor('whitesmoke')\n",
    "for spine in plt.gca().spines.values():\n",
    "    spine.set_visible(False)\n",
    "ax.xaxis.get_offset_text().set_fontsize(14)\n",
    "my_path = os.getcwd()\n",
    "fig.savefig(my_path + '/Plots/hist_lambdaGCV.pdf', bbox_inches='tight')"
   ]
  },
  {
   "cell_type": "code",
   "execution_count": 30,
   "metadata": {},
   "outputs": [
    {
     "data": {
      "text/plain": [
       "[array([[0.44171624, 0.25499854],\n",
       "        [0.25883661, 0.47832095],\n",
       "        [0.32781054, 0.35714977],\n",
       "        [0.39619629, 0.26850521],\n",
       "        [0.33259045, 0.58745085],\n",
       "        [0.35186512, 0.4087066 ],\n",
       "        [0.33729926, 0.50385336],\n",
       "        [0.23089268, 0.32265194],\n",
       "        [0.34007808, 0.42003367],\n",
       "        [0.41866596, 0.43650507],\n",
       "        [0.35639327, 0.3760037 ],\n",
       "        [0.404203  , 0.39221541],\n",
       "        [0.31989489, 0.29446093],\n",
       "        [0.37006434, 0.48266147],\n",
       "        [0.29819947, 0.26226398],\n",
       "        [0.29217373, 0.32275833],\n",
       "        [0.21127019, 0.3211614 ],\n",
       "        [0.39839988, 0.27867565],\n",
       "        [0.39729463, 0.35014241],\n",
       "        [0.34608553, 0.33930035],\n",
       "        [0.49405338, 0.5176103 ],\n",
       "        [0.36097584, 0.63188727],\n",
       "        [0.33231952, 0.46713515],\n",
       "        [0.34849142, 0.41281224],\n",
       "        [0.26901798, 0.35335815],\n",
       "        [0.31049854, 0.35201606],\n",
       "        [0.43170154, 0.31867898],\n",
       "        [0.34260098, 0.40031756],\n",
       "        [0.42547151, 0.35814387],\n",
       "        [0.34767755, 0.39252857],\n",
       "        [0.38613073, 0.33975188],\n",
       "        [0.43991775, 0.34195496],\n",
       "        [0.33843274, 0.34478182],\n",
       "        [0.40579873, 0.43077764],\n",
       "        [0.33834833, 0.39699097],\n",
       "        [0.31491133, 0.25958447],\n",
       "        [0.40980816, 0.34530484],\n",
       "        [0.20170601, 0.45567742],\n",
       "        [0.45435609, 0.3592775 ],\n",
       "        [0.33911025, 0.3808604 ],\n",
       "        [0.28929305, 0.40982429],\n",
       "        [0.3333007 , 0.34238562],\n",
       "        [0.39025146, 0.37227383],\n",
       "        [0.34222877, 0.4355394 ],\n",
       "        [0.29070437, 0.43953389],\n",
       "        [0.3595928 , 0.39498494],\n",
       "        [0.41149604, 0.39413163],\n",
       "        [0.51562009, 0.36745752],\n",
       "        [0.29987795, 0.57841484],\n",
       "        [0.4164001 , 0.2986691 ],\n",
       "        [0.44532734, 0.33632083],\n",
       "        [0.3680719 , 0.30668687],\n",
       "        [0.41633887, 0.27775614],\n",
       "        [0.43695992, 0.23517326],\n",
       "        [0.29839191, 0.38710425],\n",
       "        [0.30582686, 0.428651  ],\n",
       "        [0.40225313, 0.41384245],\n",
       "        [0.36392236, 0.35247719],\n",
       "        [0.47534185, 0.31575667],\n",
       "        [0.3080521 , 0.33764793],\n",
       "        [0.31939902, 0.31660137],\n",
       "        [0.32150188, 0.33675619],\n",
       "        [0.43513844, 0.42478792],\n",
       "        [0.40013848, 0.41681231],\n",
       "        [0.4412823 , 0.40011339],\n",
       "        [0.32520518, 0.39829768],\n",
       "        [0.42287911, 0.39114411],\n",
       "        [0.49510968, 0.2816113 ],\n",
       "        [0.44606036, 0.50712506],\n",
       "        [0.3573475 , 0.49675227],\n",
       "        [0.39015372, 0.39405706],\n",
       "        [0.38792489, 0.513459  ],\n",
       "        [0.44043731, 0.40998574],\n",
       "        [0.30958323, 0.64758636],\n",
       "        [0.45310861, 0.40432499],\n",
       "        [0.3740339 , 0.42215116],\n",
       "        [0.40241067, 0.40066954],\n",
       "        [0.27615666, 0.36123142],\n",
       "        [0.36490935, 0.47434109],\n",
       "        [0.22382019, 0.37245982],\n",
       "        [0.36191761, 0.37644789],\n",
       "        [0.40579481, 0.49490766],\n",
       "        [0.29200802, 0.42598817],\n",
       "        [0.47102698, 0.41586692],\n",
       "        [0.44894966, 0.3537843 ],\n",
       "        [0.45351373, 0.43762993],\n",
       "        [0.34069964, 0.36418011],\n",
       "        [0.4308462 , 0.32075549],\n",
       "        [0.52950067, 0.48400032],\n",
       "        [0.56207494, 0.47962203],\n",
       "        [0.2704681 , 0.36562204],\n",
       "        [0.42399251, 0.27507724],\n",
       "        [0.35424092, 0.2991802 ],\n",
       "        [0.32715279, 0.30846738],\n",
       "        [0.41325869, 0.344624  ],\n",
       "        [0.3593905 , 0.48612248],\n",
       "        [0.36088175, 0.46027676],\n",
       "        [0.37148618, 0.30981007],\n",
       "        [0.50714865, 0.32363265],\n",
       "        [0.37352652, 0.37159183]]),\n",
       " array([4.24811337e-02, 1.63687505e-02, 1.21340274e-02, 1.53964377e-02,\n",
       "        1.34057163e-02, 6.71946215e-03, 4.02047241e-03, 9.79797094e-03,\n",
       "        3.85464411e-02, 1.03860060e-01, 2.28121626e-01, 4.54271409e-01,\n",
       "        8.50590597e-01, 1.37947863e+00, 1.84031242e+00, 2.03512920e+00,\n",
       "        1.90292007e+00, 1.49011378e+00, 9.77171293e-01, 4.76916556e-01,\n",
       "        1.43367694e-01, 1.47568236e-02, 5.11634651e-04, 2.89229319e-03,\n",
       "        3.78890575e-04, 3.15051385e-04, 1.07941761e-03, 2.90682171e-03,\n",
       "        9.76974313e-03, 3.08076803e-02, 6.63119456e-02, 1.10434924e-01,\n",
       "        1.50830108e-01, 1.57718831e-01, 1.29355447e-01, 9.19429726e-02,\n",
       "        5.82440919e-02, 3.32859191e-02, 1.64719444e-02, 7.27179487e-03,\n",
       "        7.37177239e-04, 4.18732365e-03, 2.34003499e-02, 3.90436474e-02,\n",
       "        2.77397352e-02, 2.58996444e-03, 6.54205259e-03, 3.49669714e-02,\n",
       "        6.10973352e-02, 6.31174893e-02, 5.54572895e-02, 6.62478360e-02,\n",
       "        9.33118867e-02, 1.04752459e-01, 7.15991810e-02, 1.64977355e-02,\n",
       "        4.66527541e-03, 6.57510134e-02, 1.50887728e-01, 2.29559342e-01,\n",
       "        2.95651983e-01, 3.72925772e-01, 4.52398121e-01, 4.82840920e-01,\n",
       "        4.17031896e-01, 2.71641175e-01, 1.11753713e-01, 1.28371801e-02,\n",
       "        1.74779285e-02, 1.34034903e-01, 2.85721621e-01, 3.83311973e-01,\n",
       "        3.60323965e-01, 2.30763905e-01, 1.02481409e-01, 3.57596445e-02,\n",
       "        1.62754077e-02, 1.45497790e-02, 1.59446242e-02, 1.01484598e-02,\n",
       "        2.30929393e-04, 8.37051649e-03, 3.89241476e-02, 8.34941795e-02,\n",
       "        1.36764865e-01, 1.79446009e-01, 1.68619358e-01, 1.07627493e-01,\n",
       "        4.88766657e-02, 1.98322806e-02, 1.46210900e-02, 2.67296977e-02,\n",
       "        5.02534392e-02, 7.45086220e-02, 8.29865704e-02, 7.94325891e-02,\n",
       "        7.36367802e-02, 5.60444964e-02, 3.37301541e-02, 1.39383765e-02])]"
      ]
     },
     "execution_count": 30,
     "metadata": {},
     "output_type": "execute_result"
    }
   ],
   "source": [
    "errors_all"
   ]
  },
  {
   "cell_type": "code",
   "execution_count": null,
   "metadata": {},
   "outputs": [],
   "source": []
  },
  {
   "cell_type": "code",
   "execution_count": null,
   "metadata": {},
   "outputs": [],
   "source": []
  }
 ],
 "metadata": {
  "celltoolbar": "Edit Metadata",
  "kernelspec": {
   "display_name": "Python 3",
   "language": "python",
   "name": "python3"
  },
  "language_info": {
   "codemirror_mode": {
    "name": "ipython",
    "version": 3
   },
   "file_extension": ".py",
   "mimetype": "text/x-python",
   "name": "python",
   "nbconvert_exporter": "python",
   "pygments_lexer": "ipython3",
   "version": "3.8.3"
  }
 },
 "nbformat": 4,
 "nbformat_minor": 5
}
